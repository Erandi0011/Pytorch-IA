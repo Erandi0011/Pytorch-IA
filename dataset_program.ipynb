{
 "cells": [
  {
   "cell_type": "code",
   "execution_count": 6,
   "metadata": {},
   "outputs": [],
   "source": [
    "import torch\n",
    "import torch.nn.functional as F\n",
    "from torch import nn\n",
    "import numpy as np\n",
    "import matplotlib.pyplot as plt\n",
    "from sklearn.utils import shuffle\n",
    "from tqdm import tqdm\n"
   ]
  },
  {
   "cell_type": "code",
   "execution_count": 30,
   "metadata": {},
   "outputs": [],
   "source": [
    "train_size = 800\n",
    "test_size = 700\n",
    "samples = test_size + train_size\n",
    "\n",
    "belt_data = np.load('full_numpy_bitmap_belt.npy')[:samples]\n",
    "bird_data = np.load('full_numpy_bitmap_bird.npy')[:samples]\n",
    "\n",
    "belt_data = belt_data/255\n",
    "bird_data = bird_data/255\n"
   ]
  },
  {
   "cell_type": "code",
   "execution_count": 33,
   "metadata": {},
   "outputs": [
    {
     "name": "stdout",
     "output_type": "stream",
     "text": [
      "1\n"
     ]
    },
    {
     "data": {
      "image/png": "[encoded data removed]",
      "text/plain": [
       "<Figure size 432x288 with 1 Axes>"
      ]
     },
     "metadata": {
      "needs_background": "light"
     },
     "output_type": "display_data"
    }
   ],
   "source": [
    "training_inputs = np.append(belt_data[:train_size,:], bird_data[:train_size,:], axis = 0)\n",
    "training_outputs = np.array([0]*train_size+[1]*train_size)\n",
    "\n",
    "testing_inputs = np.append(belt_data[train_size:,:], bird_data[train_size:,:], axis = 0)\n",
    "testing_outputs = np.array([0]*test_size+[1]*test_size)\n",
    "\n",
    "\n",
    "training_inputs, training_outputs = shuffle(training_inputs, training_outputs)\n",
    "testing_inputs, testing_outputs = shuffle(testing_inputs, testing_outputs)\n",
    "\n",
    "training_inputs = np.reshape(training_inputs, (train_size*2,1,28,28))\n",
    "testing_inputs = np.reshape(testing_inputs, (test_size*2,1,28,28))\n",
    "\n",
    "test = training_inputs[1,0]\n",
    "plt.imshow(test, cmap='Greys')\n",
    "print(training_outputs[1])"
   ]
  },
  {
   "cell_type": "code",
   "execution_count": 34,
   "metadata": {},
   "outputs": [],
   "source": [
    "class ConvNetModel(torch.nn.Module):\n",
    "    def __init__(self):\n",
    "        super().__init__()\n",
    "        self.f1 = torch.nn.Conv2d(1, 10, kernel_size=(3,3))\n",
    "        self.f2 = torch.nn.Conv2d(10, 10, kernel_size=(3,3))\n",
    "        self.l1 = torch.nn.Linear(10 * 5**2, 50)\n",
    "        self.l2 = torch.nn.Linear(50, 3)\n",
    "    \n",
    "    def forward(self,x):\n",
    "        \n",
    "        cv1 = F.relu(self.f1(x))\n",
    "        mp1 = torch.nn.MaxPool2d((2, 2))(cv1)\n",
    "        cv2 = F.relu(self.f2(mp1))\n",
    "        mp2 = torch.nn.MaxPool2d((2, 2))(cv2)\n",
    "        \n",
    "        flaten = torch.flatten(mp2, start_dim=1)\n",
    "        \n",
    "        dl1 = F.relu(self.l1(flaten))\n",
    "        dl2 = F.softmax(self.l2(dl1), dim = 1)\n",
    "        \n",
    "        return(dl2)"
   ]
  },
  {
   "cell_type": "code",
   "execution_count": null,
   "metadata": {},
   "outputs": [],
   "source": []
  }
 ],
 "metadata": {
  "kernelspec": {
   "display_name": "Python 3",
   "language": "python",
   "name": "python3"
  },
  "language_info": {
   "codemirror_mode": {
    "name": "ipython",
    "version": 3
   },
   "file_extension": ".py",
   "mimetype": "text/x-python",
   "name": "python",
   "nbconvert_exporter": "python",
   "pygments_lexer": "ipython3",
   "version": "3.8.3"
  }
 },
 "nbformat": 4,
 "nbformat_minor": 4
}
