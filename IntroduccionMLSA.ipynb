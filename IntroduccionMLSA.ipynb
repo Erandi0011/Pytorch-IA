{
  "nbformat": 4,
  "nbformat_minor": 0,
  "metadata": {
    "kernelspec": {
      "display_name": "Python 3",
      "language": "python",
      "name": "python3"
    },
    "language_info": {
      "codemirror_mode": {
        "name": "ipython",
        "version": 3
      },
      "file_extension": ".py",
      "mimetype": "text/x-python",
      "name": "python",
      "nbconvert_exporter": "python",
      "pygments_lexer": "ipython3",
      "version": "3.8.3"
    },
    "colab": {
      "name": "Introduccion.ipynb",
      "provenance": [],
      "collapsed_sections": [],
      "toc_visible": true,
      "include_colab_link": true
    }
  },
  "cells": [
    {
      "cell_type": "markdown",
      "metadata": {
        "id": "view-in-github",
        "colab_type": "text"
      },
      "source": [
        "<a href=\"https://colab.research.google.com/github/Erandi0011/Pytorch-IA/blob/main/IntroduccionMLSA.ipynb\" target=\"_parent\"><img src=\"https://colab.research.google.com/assets/colab-badge.svg\" alt=\"Open In Colab\"/></a>"
      ]
    },
    {
      "cell_type": "markdown",
      "metadata": {
        "id": "WWq7hwQUfyy1"
      },
      "source": [
        "# Python 1\n",
        "## Introducción a Python con Google Colaboratory"
      ]
    },
    {
      "cell_type": "markdown",
      "metadata": {
        "id": "KcKiC7grZZu_"
      },
      "source": [
        "<img src='https://upload.wikimedia.org/wikipedia/commons/thumb/0/0a/Python.svg/1200px-Python.svg.png' alt='python-logo' height='200' width='200'></img>\n",
        "<p style='text-align: justify'>"
      ]
    },
    {
      "cell_type": "markdown",
      "metadata": {
        "id": "DvSHq_-TfyzC"
      },
      "source": [
        "Instalación de los programas, y algunas recomendaciones\n",
        "https://www.anaconda.com/products/individual"
      ]
    },
    {
      "cell_type": "markdown",
      "metadata": {
        "id": "b1Bb9X96fyzD"
      },
      "source": [
        "¿Por qué Pyhton?\n",
        "Python es un lenguaje de programación de propósito general muy poderoso y flexible, a la vez que sencillo y fácil de aprender. Es un lenguaje de alto nivel, que permite procesar fácilmente todo tipo de estructuras de datos, tanto numéricos como de texto."
      ]
    },
    {
      "cell_type": "markdown",
      "metadata": {
        "id": "RYe7aUXlfyzE"
      },
      "source": [
        "## 1.Variables\n",
        "### 1.1 Tipo de datos"
      ]
    },
    {
      "cell_type": "code",
      "metadata": {
        "id": "uCwUt_MAfyzF",
        "colab": {
          "base_uri": "https://localhost:8080/"
        },
        "outputId": "cc9a60df-f55c-4f8f-93d5-9a29886a7505"
      },
      "source": [
        "n = 4\n",
        "n = 5\n",
        "n"
      ],
      "execution_count": null,
      "outputs": [
        {
          "output_type": "execute_result",
          "data": {
            "text/plain": [
              "5"
            ]
          },
          "metadata": {
            "tags": []
          },
          "execution_count": 113
        }
      ]
    },
    {
      "cell_type": "code",
      "metadata": {
        "colab": {
          "base_uri": "https://localhost:8080/"
        },
        "id": "zCFTYIn2fyzG",
        "outputId": "14d52a26-6bfe-4603-85c0-0db26f65bef3"
      },
      "source": [
        "print(n)"
      ],
      "execution_count": null,
      "outputs": [
        {
          "output_type": "stream",
          "text": [
            "4\n"
          ],
          "name": "stdout"
        }
      ]
    },
    {
      "cell_type": "code",
      "metadata": {
        "colab": {
          "base_uri": "https://localhost:8080/"
        },
        "id": "yJ4U1dixfyzI",
        "outputId": "b7ae88f0-e9d8-4a64-d00a-71da1be56842"
      },
      "source": [
        "n = 4.54\n",
        "print(n)\n",
        "type(n)"
      ],
      "execution_count": null,
      "outputs": [
        {
          "output_type": "stream",
          "text": [
            "4.54\n"
          ],
          "name": "stdout"
        },
        {
          "output_type": "execute_result",
          "data": {
            "text/plain": [
              "float"
            ]
          },
          "metadata": {
            "tags": []
          },
          "execution_count": 4
        }
      ]
    },
    {
      "cell_type": "code",
      "metadata": {
        "id": "bHCqiXptfyzI",
        "outputId": "272bd48d-a0bf-4280-c21b-f978d8db142f"
      },
      "source": [
        "c = \"Hola Mundo\"\n",
        "type(c)"
      ],
      "execution_count": null,
      "outputs": [
        {
          "output_type": "execute_result",
          "data": {
            "text/plain": [
              "str"
            ]
          },
          "metadata": {
            "tags": []
          },
          "execution_count": 4
        }
      ]
    },
    {
      "cell_type": "code",
      "metadata": {
        "id": "_jN74U7ZfyzJ",
        "outputId": "c6b36481-7fda-4ad6-e30d-48faffeac57a"
      },
      "source": [
        "c"
      ],
      "execution_count": null,
      "outputs": [
        {
          "output_type": "execute_result",
          "data": {
            "text/plain": [
              "'Hola Mundo'"
            ]
          },
          "metadata": {
            "tags": []
          },
          "execution_count": 6
        }
      ]
    },
    {
      "cell_type": "code",
      "metadata": {
        "id": "uWj6qpm8fyzJ",
        "colab": {
          "base_uri": "https://localhost:8080/"
        },
        "outputId": "f4cd95c6-31f5-4358-dd8d-68f9ff0a77bf"
      },
      "source": [
        "x = y = z = True\n",
        "y"
      ],
      "execution_count": null,
      "outputs": [
        {
          "output_type": "execute_result",
          "data": {
            "text/plain": [
              "True"
            ]
          },
          "metadata": {
            "tags": []
          },
          "execution_count": 66
        }
      ]
    },
    {
      "cell_type": "code",
      "metadata": {
        "id": "fha0c8XnfyzK",
        "outputId": "3f57e9cd-b7bb-4d3a-cb5d-34ada2e3e63d"
      },
      "source": [
        "type(z)"
      ],
      "execution_count": null,
      "outputs": [
        {
          "output_type": "execute_result",
          "data": {
            "text/plain": [
              "bool"
            ]
          },
          "metadata": {
            "tags": []
          },
          "execution_count": 9
        }
      ]
    },
    {
      "cell_type": "markdown",
      "metadata": {
        "id": "NBn1-GoT9BMF"
      },
      "source": [
        "### 1.2 Operaciones"
      ]
    },
    {
      "cell_type": "markdown",
      "metadata": {
        "id": "eMCW6Y8H_Fcp"
      },
      "source": [
        "Las cuatro operaciones aritméticas básicas son la suma (+), la resta (-), la multiplicación (*) y la división (/)."
      ]
    },
    {
      "cell_type": "code",
      "metadata": {
        "colab": {
          "base_uri": "https://localhost:8080/"
        },
        "id": "MHTFIjgz_XE5",
        "outputId": "7cc3e8ac-b4ee-487e-e322-7cda1333c846"
      },
      "source": [
        "x = 5 + 1\n",
        "x"
      ],
      "execution_count": null,
      "outputs": [
        {
          "output_type": "execute_result",
          "data": {
            "text/plain": [
              "6"
            ]
          },
          "metadata": {
            "tags": []
          },
          "execution_count": 1
        }
      ]
    },
    {
      "cell_type": "code",
      "metadata": {
        "colab": {
          "base_uri": "https://localhost:8080/"
        },
        "id": "vqZLzSDo_eNa",
        "outputId": "1b6e3bfc-2798-4528-8c1f-3d3ac4f06162"
      },
      "source": [
        "x = 6.7 + 3\n",
        "x"
      ],
      "execution_count": null,
      "outputs": [
        {
          "output_type": "execute_result",
          "data": {
            "text/plain": [
              "9.7"
            ]
          },
          "metadata": {
            "tags": []
          },
          "execution_count": 10
        }
      ]
    },
    {
      "cell_type": "code",
      "metadata": {
        "colab": {
          "base_uri": "https://localhost:8080/"
        },
        "id": "HrR_AKa6AYzJ",
        "outputId": "a0d7549d-7f7f-43ed-8587-89605151acb0"
      },
      "source": [
        "x = 3 - 5\n",
        "x"
      ],
      "execution_count": null,
      "outputs": [
        {
          "output_type": "execute_result",
          "data": {
            "text/plain": [
              "-2"
            ]
          },
          "metadata": {
            "tags": []
          },
          "execution_count": 15
        }
      ]
    },
    {
      "cell_type": "code",
      "metadata": {
        "colab": {
          "base_uri": "https://localhost:8080/"
        },
        "id": "MjAW1hU_9FAH",
        "outputId": "316422eb-118a-4b46-f564-ed6be13993ed"
      },
      "source": [
        "x = 2 * 3\n",
        "x\n"
      ],
      "execution_count": null,
      "outputs": [
        {
          "output_type": "execute_result",
          "data": {
            "text/plain": [
              "6"
            ]
          },
          "metadata": {
            "tags": []
          },
          "execution_count": 13
        }
      ]
    },
    {
      "cell_type": "code",
      "metadata": {
        "colab": {
          "base_uri": "https://localhost:8080/"
        },
        "id": "PTleyWXfAB96",
        "outputId": "5c93e920-fdb5-4363-bc36-1d498cb4e6d3"
      },
      "source": [
        "x = 27 / 2\n",
        "x"
      ],
      "execution_count": null,
      "outputs": [
        {
          "output_type": "execute_result",
          "data": {
            "text/plain": [
              "13.5"
            ]
          },
          "metadata": {
            "tags": []
          },
          "execution_count": 16
        }
      ]
    },
    {
      "cell_type": "code",
      "metadata": {
        "colab": {
          "base_uri": "https://localhost:8080/"
        },
        "id": "d1i5_dGsxOK9",
        "outputId": "9ade1364-ec2a-4caa-ac5d-da8e9586d1c0"
      },
      "source": [
        "#División entera de 2 enteros\n",
        "10 // 3 "
      ],
      "execution_count": null,
      "outputs": [
        {
          "output_type": "execute_result",
          "data": {
            "text/plain": [
              "3"
            ]
          },
          "metadata": {
            "tags": []
          },
          "execution_count": 7
        }
      ]
    },
    {
      "cell_type": "markdown",
      "metadata": {
        "id": "ZExRvGovZ4eg"
      },
      "source": [
        "<h3>Exponente</h3>\n",
        "    <p>Dependiendo de que tipo de dato estemos ocupando el operador exponente se comportara diferente forma\n",
        "    <br>Ejemplo: \n",
        "    <br>- 2 enteros\n",
        "    <br>- 2 float\n",
        "    <br>- 2 booleano\n",
        "    <br>- 2 cadenas de caracteres\n",
        "    <br>- Multiplicar cadenas por un entero\n",
        "    <br>- Notación científica\n",
        "</p>"
      ]
    },
    {
      "cell_type": "code",
      "metadata": {
        "colab": {
          "base_uri": "https://localhost:8080/"
        },
        "id": "wQ6tv5G0Z7ld",
        "outputId": "a353d01b-4a7f-4a7d-e473-8d2356bfea41"
      },
      "source": [
        "#Con 2 enteros \n",
        "7 ** 2"
      ],
      "execution_count": null,
      "outputs": [
        {
          "output_type": "execute_result",
          "data": {
            "text/plain": [
              "49"
            ]
          },
          "metadata": {
            "tags": []
          },
          "execution_count": 21
        }
      ]
    },
    {
      "cell_type": "code",
      "metadata": {
        "colab": {
          "base_uri": "https://localhost:8080/"
        },
        "id": "yr473i0gaErD",
        "outputId": "aca1941a-8ff5-4f3f-fbd8-0ce00860dde5"
      },
      "source": [
        "#Con 2 float \n",
        "7.3 ** 2.1"
      ],
      "execution_count": null,
      "outputs": [
        {
          "output_type": "execute_result",
          "data": {
            "text/plain": [
              "65.00967670007661"
            ]
          },
          "metadata": {
            "tags": []
          },
          "execution_count": 22
        }
      ]
    },
    {
      "cell_type": "code",
      "metadata": {
        "colab": {
          "base_uri": "https://localhost:8080/"
        },
        "id": "1J_7iUxqaE58",
        "outputId": "e315929c-6e06-4575-8f59-1e8fe5a09eeb"
      },
      "source": [
        "#También podemos tener expresiones como 40X10^4 para ahorrarnos escriir los ceros\n",
        "#Esto se puede hacer poniendo la letra E/e seguida de un numero que representa el exponente.\n",
        "print(40E-4)\n",
        "print(40e4)\n",
        "print(4e-4)\n",
        "#Notamos que nos regresa un tipo de dato float"
      ],
      "execution_count": null,
      "outputs": [
        {
          "output_type": "stream",
          "text": [
            "0.004\n",
            "400000.0\n",
            "0.0004\n"
          ],
          "name": "stdout"
        }
      ]
    },
    {
      "cell_type": "code",
      "metadata": {
        "colab": {
          "base_uri": "https://localhost:8080/"
        },
        "id": "3ri0cCyEaFE9",
        "outputId": "8d1a1b47-7792-4083-fe0d-1ad929fa03d5"
      },
      "source": [
        "#Con 2 Booleanos, observemos que pasa\n",
        "print(True ** True)\n",
        "print(True ** False)\n",
        "print(False ** True)\n",
        "print(False ** False)\n",
        "#Recordemos que 0 a la 0 es 1, pero 0 a la 1, es 0"
      ],
      "execution_count": null,
      "outputs": [
        {
          "output_type": "stream",
          "text": [
            "1\n",
            "1\n",
            "0\n",
            "1\n"
          ],
          "name": "stdout"
        }
      ]
    },
    {
      "cell_type": "code",
      "metadata": {
        "colab": {
          "base_uri": "https://localhost:8080/"
        },
        "id": "Qub9z-NeBRV7",
        "outputId": "62440054-5123-4986-e7b8-4ef2f8a092f7"
      },
      "source": [
        "25 ** (1/2)"
      ],
      "execution_count": null,
      "outputs": [
        {
          "output_type": "execute_result",
          "data": {
            "text/plain": [
              "5.0"
            ]
          },
          "metadata": {
            "tags": []
          },
          "execution_count": 67
        }
      ]
    },
    {
      "cell_type": "code",
      "metadata": {
        "colab": {
          "base_uri": "https://localhost:8080/"
        },
        "id": "IPGkBro4BVvi",
        "outputId": "08255c30-5b1e-4a8a-cfc9-58586c2840b3"
      },
      "source": [
        "import math\n",
        "math.sqrt(25)"
      ],
      "execution_count": null,
      "outputs": [
        {
          "output_type": "execute_result",
          "data": {
            "text/plain": [
              "5.0"
            ]
          },
          "metadata": {
            "tags": []
          },
          "execution_count": 70
        }
      ]
    },
    {
      "cell_type": "markdown",
      "metadata": {
        "id": "iMxToG2lxSse"
      },
      "source": [
        "<h3>Modulo</h3>\n",
        "<p>Cuando hacemos la division exacta no tenemos en cuenta el residuo ,la operacion mudulo lo unico que no regresa es ese residuo por ejemplo en la division 10 / 3 el '3' cabe '3' en el 10 y sobra '1' , la operacion division entera nos regresara el '3' y el modulo nos regresara el '1'</p>"
      ]
    },
    {
      "cell_type": "code",
      "metadata": {
        "colab": {
          "base_uri": "https://localhost:8080/"
        },
        "id": "5aOvoGwax_f-",
        "outputId": "cd1b5400-bd6a-47d6-f0c5-20e8527ceb41"
      },
      "source": [
        "10 / 3\n"
      ],
      "execution_count": null,
      "outputs": [
        {
          "output_type": "execute_result",
          "data": {
            "text/plain": [
              "3.3333333333333335"
            ]
          },
          "metadata": {
            "tags": []
          },
          "execution_count": 8
        }
      ]
    },
    {
      "cell_type": "code",
      "metadata": {
        "colab": {
          "base_uri": "https://localhost:8080/"
        },
        "id": "EhNqa0umyCQ8",
        "outputId": "646c45ac-272b-43c9-9dca-784105d8b157"
      },
      "source": [
        "10 % 3"
      ],
      "execution_count": null,
      "outputs": [
        {
          "output_type": "execute_result",
          "data": {
            "text/plain": [
              "1"
            ]
          },
          "metadata": {
            "tags": []
          },
          "execution_count": 10
        }
      ]
    },
    {
      "cell_type": "markdown",
      "metadata": {
        "id": "vY2cdWyh0nEL"
      },
      "source": [
        "<h3>Operadores logicos </h3>\n",
        "<p>Son los distintos tipos de operadores con los que puede trabajar con valores booleanos, sigue las reglas del algebra de Boole</p>\n",
        "<ul>\n",
        "<li>Operador AND: Se puede declarar de dos maneras, escribiendo 'and' o '&&'</li>\n",
        "<li>Operador OR: Se puede declarar de dos maneras, escribiendo 'or' o '|'</li>\n",
        "<li>Operador NOT: Se declara escribiendo \"not\"</li>\n",
        "</ul>\n",
        "<p>Nota: No incluir las comillas, estarias trabajando con una cadena, no con el operador</p>\n",
        "<center>\n",
        "<img src = 'https://image.slidesharecdn.com/circuitoscombinatoriosyalgebrabooleanaa-140217091808-phpapp01/95/circuitos-combinatorios-y-algebra-booleana-11-638.jpg?cb=1392628712'\n",
        "alt = 'DSC' height = '350' width = '550'>\n",
        "</center>"
      ]
    },
    {
      "cell_type": "code",
      "metadata": {
        "colab": {
          "base_uri": "https://localhost:8080/"
        },
        "id": "GFHD8Bpn0mdc",
        "outputId": "78bfe15d-60f7-41fe-a812-bd56b45df65d"
      },
      "source": [
        "#Con expresiones booleanas, se cumple la compuerta AND\n",
        "print(True and True)\n",
        "print(True and False)\n",
        "#Notosé que no imprime 1's y 0's como en la multiplicación"
      ],
      "execution_count": null,
      "outputs": [
        {
          "output_type": "stream",
          "text": [
            "True\n",
            "False\n"
          ],
          "name": "stdout"
        }
      ]
    },
    {
      "cell_type": "code",
      "metadata": {
        "colab": {
          "base_uri": "https://localhost:8080/"
        },
        "id": "lJaC7r8g0YCK",
        "outputId": "22adaff3-4298-4311-9c20-790aad2f98fd"
      },
      "source": [
        "#Compuerta OR\n",
        "print(True or True)\n",
        "print(True or False)\n",
        "print(False or True)\n",
        "print(False or False)"
      ],
      "execution_count": null,
      "outputs": [
        {
          "output_type": "stream",
          "text": [
            "True\n",
            "True\n",
            "True\n",
            "False\n"
          ],
          "name": "stdout"
        }
      ]
    },
    {
      "cell_type": "markdown",
      "metadata": {
        "id": "sjk_IVznfyzK"
      },
      "source": [
        "### Lógica de programación"
      ]
    },
    {
      "cell_type": "code",
      "metadata": {
        "id": "J0pq-16KfyzK",
        "outputId": "e0323ad8-12e2-402c-884d-7a763abdca19"
      },
      "source": [
        "1+1==3"
      ],
      "execution_count": null,
      "outputs": [
        {
          "output_type": "execute_result",
          "data": {
            "text/plain": [
              "False"
            ]
          },
          "metadata": {
            "tags": []
          },
          "execution_count": 4
        }
      ]
    },
    {
      "cell_type": "code",
      "metadata": {
        "id": "FmG5aqbdfyzL",
        "outputId": "adde59dd-0499-44d9-ac3e-1e060fd20a27"
      },
      "source": [
        "3!=1"
      ],
      "execution_count": null,
      "outputs": [
        {
          "output_type": "execute_result",
          "data": {
            "text/plain": [
              "True"
            ]
          },
          "metadata": {
            "tags": []
          },
          "execution_count": 5
        }
      ]
    },
    {
      "cell_type": "code",
      "metadata": {
        "id": "UAauAAGAfyzL",
        "outputId": "1a81e87d-6e63-405d-c88d-d93da5e114e7"
      },
      "source": [
        "3>2"
      ],
      "execution_count": null,
      "outputs": [
        {
          "output_type": "execute_result",
          "data": {
            "text/plain": [
              "True"
            ]
          },
          "metadata": {
            "tags": []
          },
          "execution_count": 6
        }
      ]
    },
    {
      "cell_type": "code",
      "metadata": {
        "id": "wojoLcdRfyzL"
      },
      "source": [
        "a=1"
      ],
      "execution_count": null,
      "outputs": []
    },
    {
      "cell_type": "code",
      "metadata": {
        "id": "5mmQEhJZfyzM",
        "colab": {
          "base_uri": "https://localhost:8080/"
        },
        "outputId": "1e7fefd9-ac08-4a54-86b2-3b684722c829"
      },
      "source": [
        "b=5\n",
        "a>b"
      ],
      "execution_count": null,
      "outputs": [
        {
          "output_type": "execute_result",
          "data": {
            "text/plain": [
              "False"
            ]
          },
          "metadata": {
            "tags": []
          },
          "execution_count": 108
        }
      ]
    },
    {
      "cell_type": "code",
      "metadata": {
        "id": "Y-CjcUxxfyzM",
        "colab": {
          "base_uri": "https://localhost:8080/"
        },
        "outputId": "32686949-f0a0-418a-870e-f0ccfc2a8917"
      },
      "source": [
        "not False"
      ],
      "execution_count": null,
      "outputs": [
        {
          "output_type": "execute_result",
          "data": {
            "text/plain": [
              "True"
            ]
          },
          "metadata": {
            "tags": []
          },
          "execution_count": 111
        }
      ]
    },
    {
      "cell_type": "code",
      "metadata": {
        "id": "KNaQkhiKfyzN",
        "outputId": "6f899981-3317-4f4e-a004-26d5c7ba48bc"
      },
      "source": [
        "c1=\"una cadena\"\n",
        "c2=\" otra cadena\"\n",
        "print(c1+c2)"
      ],
      "execution_count": null,
      "outputs": [
        {
          "output_type": "stream",
          "text": [
            "una cadena otra cadena\n"
          ],
          "name": "stdout"
        }
      ]
    },
    {
      "cell_type": "code",
      "metadata": {
        "id": "w2m6CZZOfyzO",
        "outputId": "521ebbff-0043-4b55-e8c7-08674568e44c"
      },
      "source": [
        "palabra=\"python\"\n",
        "print(palabra[0])\n"
      ],
      "execution_count": null,
      "outputs": [
        {
          "output_type": "stream",
          "text": [
            "p\n"
          ],
          "name": "stdout"
        }
      ]
    },
    {
      "cell_type": "code",
      "metadata": {
        "id": "vv3nAPDXfyzQ",
        "outputId": "4eb75193-a286-4bcd-e349-56c9506717ae"
      },
      "source": [
        "palabra=\"python\"\n",
        "print(palabra[-3])"
      ],
      "execution_count": null,
      "outputs": [
        {
          "output_type": "stream",
          "text": [
            "h\n"
          ],
          "name": "stdout"
        }
      ]
    },
    {
      "cell_type": "code",
      "metadata": {
        "id": "ImdvSuhafyzQ",
        "outputId": "43aaf053-b5f1-4e93-d486-fdf5cad3141a"
      },
      "source": [
        "print(palabra[0:2])\n"
      ],
      "execution_count": null,
      "outputs": [
        {
          "output_type": "stream",
          "text": [
            "py\n"
          ],
          "name": "stdout"
        }
      ]
    },
    {
      "cell_type": "code",
      "metadata": {
        "id": "RGKAOLFDfyzR",
        "outputId": "265e18e0-84dc-48d7-d7b0-810af2cad283"
      },
      "source": [
        "print(palabra[0:6])"
      ],
      "execution_count": null,
      "outputs": [
        {
          "output_type": "stream",
          "text": [
            "python\n"
          ],
          "name": "stdout"
        }
      ]
    },
    {
      "cell_type": "code",
      "metadata": {
        "id": "G4UB7ErQfyzR",
        "outputId": "52d2eba2-1b7d-4ed3-b6f5-989d25104a94"
      },
      "source": [
        "print(palabra[0:5])"
      ],
      "execution_count": null,
      "outputs": [
        {
          "output_type": "stream",
          "text": [
            "pytho\n"
          ],
          "name": "stdout"
        }
      ]
    },
    {
      "cell_type": "code",
      "metadata": {
        "id": "aLpPJjSZfyzS",
        "outputId": "f021e69e-acc8-4cd6-e7b9-c63fa88f4f81"
      },
      "source": [
        "print(palabra[-3:5])\n"
      ],
      "execution_count": null,
      "outputs": [
        {
          "output_type": "stream",
          "text": [
            "ho\n"
          ],
          "name": "stdout"
        }
      ]
    },
    {
      "cell_type": "markdown",
      "metadata": {
        "id": "cTP_Oj8qfyzS"
      },
      "source": [
        "### 1.3 Palabras reservadas"
      ]
    },
    {
      "cell_type": "markdown",
      "metadata": {
        "id": "DkWFxE8MfyzS"
      },
      "source": [
        "Existen ciertas palabras que tienen significado especial para el intérprete de Python. Estas no pueden utilizarse para ningún otro fin"
      ]
    },
    {
      "cell_type": "markdown",
      "metadata": {
        "id": "UPYAt-MKfyzS"
      },
      "source": [
        "Algunas de ellas son: \n",
        "\n",
        "and\n",
        "as\n",
        "assert\n",
        "break\n",
        "class\n",
        "continue\n",
        "if\n",
        "elif\n",
        "else\n",
        "except"
      ]
    },
    {
      "cell_type": "markdown",
      "metadata": {
        "id": "8gUejMwHfyzT"
      },
      "source": [
        "Para verificar si una palabra esta reservada utilizando el módulo integrado keyword"
      ]
    },
    {
      "cell_type": "code",
      "metadata": {
        "id": "1uM4HSL6fyzT",
        "outputId": "618df9df-415d-4e07-bb21-efd011018ed4"
      },
      "source": [
        "import keyword\n",
        "keyword.iskeyword('as')"
      ],
      "execution_count": null,
      "outputs": [
        {
          "output_type": "execute_result",
          "data": {
            "text/plain": [
              "True"
            ]
          },
          "metadata": {
            "tags": []
          },
          "execution_count": 29
        }
      ]
    },
    {
      "cell_type": "markdown",
      "metadata": {
        "id": "4DlFFHT6fyzT"
      },
      "source": [
        "Para obtener una lista de todas las palabras reservadas"
      ]
    },
    {
      "cell_type": "code",
      "metadata": {
        "id": "gcp5aS2RfyzT",
        "outputId": "89247193-85f1-4ab2-f6f6-7102750ae5e7"
      },
      "source": [
        "keyword.kwlist"
      ],
      "execution_count": null,
      "outputs": [
        {
          "output_type": "execute_result",
          "data": {
            "text/plain": [
              "['False',\n",
              " 'None',\n",
              " 'True',\n",
              " 'and',\n",
              " 'as',\n",
              " 'assert',\n",
              " 'async',\n",
              " 'await',\n",
              " 'break',\n",
              " 'class',\n",
              " 'continue',\n",
              " 'def',\n",
              " 'del',\n",
              " 'elif',\n",
              " 'else',\n",
              " 'except',\n",
              " 'finally',\n",
              " 'for',\n",
              " 'from',\n",
              " 'global',\n",
              " 'if',\n",
              " 'import',\n",
              " 'in',\n",
              " 'is',\n",
              " 'lambda',\n",
              " 'nonlocal',\n",
              " 'not',\n",
              " 'or',\n",
              " 'pass',\n",
              " 'raise',\n",
              " 'return',\n",
              " 'try',\n",
              " 'while',\n",
              " 'with',\n",
              " 'yield']"
            ]
          },
          "metadata": {
            "tags": []
          },
          "execution_count": 31
        }
      ]
    },
    {
      "cell_type": "markdown",
      "metadata": {
        "id": "XdfzsMIkfyzT"
      },
      "source": [
        "Python tiene varios tipos de datos "
      ]
    },
    {
      "cell_type": "markdown",
      "metadata": {
        "id": "B4I2Nq-zfyzU"
      },
      "source": [
        "int\t        entero\n",
        "long\t    entero long\n",
        "float\t    flotante\n",
        "complex  \tcomplejo\n",
        "bool\t    booleano\n",
        "str\t        cadena de caracteres\n",
        "unicode\t    cadena de caracteres Unicode\n",
        "tuple\t    tupla\n",
        "xrange\t    rango inmutable\n",
        "list\t    lista\n",
        "range\t    rango mutable\n",
        "dict\t    diccionario\n",
        "set\t        conjunto mutable\n",
        "frozenset\tconjunto inmutable"
      ]
    },
    {
      "cell_type": "markdown",
      "metadata": {
        "id": "6zB-S8LUfyzU"
      },
      "source": [
        "## Operadores de asignaciones"
      ]
    },
    {
      "cell_type": "markdown",
      "metadata": {
        "id": "cHtgTOdcfyzV"
      },
      "source": [
        "El operador igual a (=)\n",
        "Asigna a la variable del lado izquierdo cualquier variable o resultado del lado derecho."
      ]
    },
    {
      "cell_type": "code",
      "metadata": {
        "id": "znVvtZsWfyzV"
      },
      "source": [
        "a=3\n"
      ],
      "execution_count": null,
      "outputs": []
    },
    {
      "cell_type": "markdown",
      "metadata": {
        "id": "-uzJIFNzfyzV"
      },
      "source": [
        "El operador más igual a (+=) suma a la variable original el valor asignado"
      ]
    },
    {
      "cell_type": "code",
      "metadata": {
        "id": "q9MzeiwBfyzV",
        "outputId": "030c426a-63f7-4337-b14a-0f9fd2210c9c"
      },
      "source": [
        "a=3\n",
        "a+=1\n",
        "a"
      ],
      "execution_count": null,
      "outputs": [
        {
          "output_type": "execute_result",
          "data": {
            "text/plain": [
              "4"
            ]
          },
          "metadata": {
            "tags": []
          },
          "execution_count": 37
        }
      ]
    },
    {
      "cell_type": "code",
      "metadata": {
        "id": "uk9_t0UvfyzV",
        "outputId": "11176426-c5e4-4052-9075-6c3d2ee0dc0f"
      },
      "source": [
        "a = 3; a=a+1\n",
        "a"
      ],
      "execution_count": null,
      "outputs": [
        {
          "output_type": "execute_result",
          "data": {
            "text/plain": [
              "4"
            ]
          },
          "metadata": {
            "tags": []
          },
          "execution_count": 44
        }
      ]
    },
    {
      "cell_type": "markdown",
      "metadata": {
        "id": "kg9_IbpcfyzW"
      },
      "source": [
        " Operador menos igual a(-=)"
      ]
    },
    {
      "cell_type": "code",
      "metadata": {
        "id": "L9wJOj9vfyzW",
        "outputId": "3b4d51a2-0bec-4128-8f84-871cb96185c0"
      },
      "source": [
        "r = 5; r -= 10; r\n"
      ],
      "execution_count": null,
      "outputs": [
        {
          "output_type": "execute_result",
          "data": {
            "text/plain": [
              "-5"
            ]
          },
          "metadata": {
            "tags": []
          },
          "execution_count": 45
        }
      ]
    },
    {
      "cell_type": "code",
      "metadata": {
        "id": "lOO0X3tqfyzX",
        "outputId": "4d50aa65-48b9-4625-e9d3-50b1fd64f4f2"
      },
      "source": [
        "r = 5; r = r - 10; r"
      ],
      "execution_count": null,
      "outputs": [
        {
          "output_type": "execute_result",
          "data": {
            "text/plain": [
              "-5"
            ]
          },
          "metadata": {
            "tags": []
          },
          "execution_count": 46
        }
      ]
    },
    {
      "cell_type": "markdown",
      "metadata": {
        "id": "wjaWEoO7fyzX"
      },
      "source": [
        " El operador *= multiplica a la variable del lado izquierdo el valor del lado derecho."
      ]
    },
    {
      "cell_type": "code",
      "metadata": {
        "id": "LFIoNissfyzX",
        "outputId": "0b362dfd-5878-4b54-f9bc-7442d3004e7e"
      },
      "source": [
        " r = 5; r *= 10; r"
      ],
      "execution_count": null,
      "outputs": [
        {
          "output_type": "execute_result",
          "data": {
            "text/plain": [
              "50"
            ]
          },
          "metadata": {
            "tags": []
          },
          "execution_count": 47
        }
      ]
    },
    {
      "cell_type": "code",
      "metadata": {
        "id": "uN6i2pwDfyzY",
        "outputId": "dc77a977-2737-4986-cc08-2e8ba066d244"
      },
      "source": [
        " r = 5; r = r * 10; r\n"
      ],
      "execution_count": null,
      "outputs": [
        {
          "output_type": "execute_result",
          "data": {
            "text/plain": [
              "50"
            ]
          },
          "metadata": {
            "tags": []
          },
          "execution_count": 48
        }
      ]
    },
    {
      "cell_type": "markdown",
      "metadata": {
        "id": "TVDTC4whfyzY"
      },
      "source": [
        "El operador (/=) divide a la variable del lado izquierdo el valor del lado derecho."
      ]
    },
    {
      "cell_type": "code",
      "metadata": {
        "id": "kGc2uZQ-fyzY",
        "outputId": "089fdec7-673e-4cd9-ffb9-9490410fc824"
      },
      "source": [
        " r = 10; r /= 5; r"
      ],
      "execution_count": null,
      "outputs": [
        {
          "output_type": "execute_result",
          "data": {
            "text/plain": [
              "2.0"
            ]
          },
          "metadata": {
            "tags": []
          },
          "execution_count": 50
        }
      ]
    },
    {
      "cell_type": "code",
      "metadata": {
        "id": "_LYnCgv3fyzY",
        "outputId": "fe39f1fa-cc2f-4162-b9c0-f0deb826dbd6"
      },
      "source": [
        "r = 10; r = r / 5; r"
      ],
      "execution_count": null,
      "outputs": [
        {
          "output_type": "execute_result",
          "data": {
            "text/plain": [
              "2.0"
            ]
          },
          "metadata": {
            "tags": []
          },
          "execution_count": 52
        }
      ]
    },
    {
      "cell_type": "markdown",
      "metadata": {
        "id": "vPiDBY3QfyzZ"
      },
      "source": [
        "El operador (**=) calcula el exponente de la variable original al valor definido con el operador"
      ]
    },
    {
      "cell_type": "code",
      "metadata": {
        "id": "gb0_FN02fyzZ",
        "outputId": "d7be79d2-e8d9-4219-f7c8-7d7c494bf6a2"
      },
      "source": [
        "r = 2\n",
        "r **= 6\n",
        "r"
      ],
      "execution_count": null,
      "outputs": [
        {
          "output_type": "execute_result",
          "data": {
            "text/plain": [
              "64"
            ]
          },
          "metadata": {
            "tags": []
          },
          "execution_count": 54
        }
      ]
    },
    {
      "cell_type": "code",
      "metadata": {
        "id": "O6pvjWKWfyzZ",
        "outputId": "71e703ba-e8c5-4062-cf96-ec572cdc7b0b"
      },
      "source": [
        "r = 2\n",
        "r= r ** 6\n",
        "r"
      ],
      "execution_count": null,
      "outputs": [
        {
          "output_type": "execute_result",
          "data": {
            "text/plain": [
              "64"
            ]
          },
          "metadata": {
            "tags": []
          },
          "execution_count": 56
        }
      ]
    },
    {
      "cell_type": "markdown",
      "metadata": {
        "id": "7rNpTHeffyzc"
      },
      "source": [
        "El operador (//=) calcula la división entera de la variable original al valor definido con el operador"
      ]
    },
    {
      "cell_type": "code",
      "metadata": {
        "id": "zJZlzXLWfyzc",
        "colab": {
          "base_uri": "https://localhost:8080/"
        },
        "outputId": "6a7fedba-5be1-4bc2-b09d-95a63b015b18"
      },
      "source": [
        "r = 20.5; r //= 10; r"
      ],
      "execution_count": null,
      "outputs": [
        {
          "output_type": "execute_result",
          "data": {
            "text/plain": [
              "2.0"
            ]
          },
          "metadata": {
            "tags": []
          },
          "execution_count": 116
        }
      ]
    },
    {
      "cell_type": "code",
      "metadata": {
        "id": "dU16lEFkfyzc",
        "colab": {
          "base_uri": "https://localhost:8080/"
        },
        "outputId": "4982a79b-946c-497a-cc23-51e603bce6ec"
      },
      "source": [
        " r = 20.5; r = r / 10; r"
      ],
      "execution_count": null,
      "outputs": [
        {
          "output_type": "execute_result",
          "data": {
            "text/plain": [
              "2.05"
            ]
          },
          "metadata": {
            "tags": []
          },
          "execution_count": 118
        }
      ]
    },
    {
      "cell_type": "markdown",
      "metadata": {
        "id": "EfLRuDgMfyzd"
      },
      "source": [
        "Asignación aumentada"
      ]
    },
    {
      "cell_type": "code",
      "metadata": {
        "id": "-Sl6Y6Kcfyzd"
      },
      "source": [
        "contador = 2"
      ],
      "execution_count": null,
      "outputs": []
    },
    {
      "cell_type": "code",
      "metadata": {
        "id": "mdsO1WtIfyzd",
        "outputId": "3bc1806f-52a4-43ff-fb36-ed40d883d8d1"
      },
      "source": [
        "contador = contador + 1\n",
        "contador"
      ],
      "execution_count": null,
      "outputs": [
        {
          "output_type": "execute_result",
          "data": {
            "text/plain": [
              "3"
            ]
          },
          "metadata": {
            "tags": []
          },
          "execution_count": 85
        }
      ]
    },
    {
      "cell_type": "code",
      "metadata": {
        "id": "iGfLK7yGfyze",
        "outputId": "afb0f01f-749f-4382-ff25-cfe2bfe815b7"
      },
      "source": [
        "contador = 4\n",
        "contador += 1\n",
        "contador"
      ],
      "execution_count": null,
      "outputs": [
        {
          "output_type": "execute_result",
          "data": {
            "text/plain": [
              "5"
            ]
          },
          "metadata": {
            "tags": []
          },
          "execution_count": 86
        }
      ]
    },
    {
      "cell_type": "code",
      "metadata": {
        "id": "NAMC3Ihofyze",
        "outputId": "e35f8455-768a-4145-a86c-6aa1c6cccbbe"
      },
      "source": [
        "a=2\n",
        "b=3\n",
        "\n",
        "print (\"Valor de variable 'a':\", a)\n",
        "print (\"Valor de variable 'b':\", b)\n",
        "\n",
        "c = a + b\n",
        "print (\"Usando e Operador = | c = a + b =\", c)\n",
        "\n",
        "c += a\n",
        "print (\"Operador += | El valor de variable 'c' es c+a \", c)\n",
        "\n",
        "c *= a\n",
        "print (\"Operador *= | El valor de variable 'c' es cxa \", c)\n",
        "\n",
        "c /= a \n",
        "print (\"Operador /= | El valor de variable 'c' es c/a\", c)\n",
        "\n",
        "c **= a\n",
        "print (\"Operador **= | El valor de variable 'c' es c^a\", c)\n",
        "\n",
        "c //= a\n",
        "print (\"Operador //= | El valor de variable 'c' es c/a sin decimales\", c)\n"
      ],
      "execution_count": null,
      "outputs": [
        {
          "output_type": "stream",
          "text": [
            "Valor de variable 'a': 2\n",
            "Valor de variable 'b': 3\n",
            "Usando e Operador = | c = a + b = 5\n",
            "Operador += | El valor de variable 'c' es c+a  7\n",
            "Operador *= | El valor de variable 'c' es cxa  14\n",
            "Operador /= | El valor de variable 'c' es c/a 7.0\n",
            "Operador **= | El valor de variable 'c' es c^a 49.0\n",
            "Operador //= | El valor de variable 'c' es c/a sin decimales 24.0\n"
          ],
          "name": "stdout"
        }
      ]
    },
    {
      "cell_type": "code",
      "metadata": {
        "id": "1hPmIIh0fyzf",
        "outputId": "c7f50e45-7332-46c3-c09e-12f266acacce"
      },
      "source": [
        "palabra[:3]"
      ],
      "execution_count": null,
      "outputs": [
        {
          "output_type": "execute_result",
          "data": {
            "text/plain": [
              "'pyt'"
            ]
          },
          "metadata": {
            "tags": []
          },
          "execution_count": 28
        }
      ]
    },
    {
      "cell_type": "code",
      "metadata": {
        "id": "Rrgfm_QWfyzg",
        "outputId": "2dc1be2d-e3c4-4fa6-df29-ff0e481bd693"
      },
      "source": [
        "palabra[-1::-1]"
      ],
      "execution_count": null,
      "outputs": [
        {
          "output_type": "execute_result",
          "data": {
            "text/plain": [
              "'nohtyp'"
            ]
          },
          "metadata": {
            "tags": []
          },
          "execution_count": 21
        }
      ]
    },
    {
      "cell_type": "code",
      "metadata": {
        "id": "rI53UzlWfyzg",
        "outputId": "57e343f1-74f2-4232-ff3e-29ad54737d80"
      },
      "source": [
        "palabra[-1:1:-4]"
      ],
      "execution_count": null,
      "outputs": [
        {
          "output_type": "execute_result",
          "data": {
            "text/plain": [
              "'n'"
            ]
          },
          "metadata": {
            "tags": []
          },
          "execution_count": 22
        }
      ]
    },
    {
      "cell_type": "code",
      "metadata": {
        "id": "wPJz2V_7fyzg"
      },
      "source": [
        "palabra=\"N\"+palabra[1:]"
      ],
      "execution_count": null,
      "outputs": []
    },
    {
      "cell_type": "code",
      "metadata": {
        "id": "AUWDmGaWfyzh",
        "outputId": "4d5cec5e-f97d-4865-a84b-201bb8fb5d89"
      },
      "source": [
        "print(palabra)"
      ],
      "execution_count": null,
      "outputs": [
        {
          "output_type": "stream",
          "text": [
            "Nython\n"
          ],
          "name": "stdout"
        }
      ]
    },
    {
      "cell_type": "code",
      "metadata": {
        "id": "yratBqs0fyzh"
      },
      "source": [
        "numeros=[1,2,3]"
      ],
      "execution_count": null,
      "outputs": []
    },
    {
      "cell_type": "code",
      "metadata": {
        "id": "oiZ7mrudfyzh",
        "outputId": "d776fb2f-4af7-44d1-e72d-017aef1fdae3"
      },
      "source": [
        "numeros[0]"
      ],
      "execution_count": null,
      "outputs": [
        {
          "output_type": "execute_result",
          "data": {
            "text/plain": [
              "1"
            ]
          },
          "metadata": {
            "tags": []
          },
          "execution_count": 26
        }
      ]
    },
    {
      "cell_type": "code",
      "metadata": {
        "id": "LXDgjXEwfyzi"
      },
      "source": [
        "num2=[4,5,6]\n",
        "suma=numeros+num2"
      ],
      "execution_count": null,
      "outputs": []
    },
    {
      "cell_type": "code",
      "metadata": {
        "id": "dAnbr5aJfyzi",
        "outputId": "f0a83495-1d95-4dc9-b365-113351155437"
      },
      "source": [
        "print(suma)"
      ],
      "execution_count": null,
      "outputs": [
        {
          "output_type": "stream",
          "text": [
            "[1, 2, 3, 4, 5, 6]\n"
          ],
          "name": "stdout"
        }
      ]
    },
    {
      "cell_type": "code",
      "metadata": {
        "id": "Kq-XF-LLfyzi",
        "outputId": "3735bc7b-9325-4253-fd99-83072b376294"
      },
      "source": [
        "num2[0]=6\n",
        "print(num2)\n"
      ],
      "execution_count": null,
      "outputs": [
        {
          "output_type": "stream",
          "text": [
            "[6, 5, 6]\n"
          ],
          "name": "stdout"
        }
      ]
    },
    {
      "cell_type": "code",
      "metadata": {
        "id": "RgwqTvOwfyzi"
      },
      "source": [
        "num2.append(17)"
      ],
      "execution_count": null,
      "outputs": []
    },
    {
      "cell_type": "code",
      "metadata": {
        "id": "kpR5g1jtfyzi",
        "outputId": "5cbbd39e-e44c-4d3e-8dac-17b3d4885d44"
      },
      "source": [
        "num2\n"
      ],
      "execution_count": null,
      "outputs": [
        {
          "output_type": "execute_result",
          "data": {
            "text/plain": [
              "[6, 5, 6, 17]"
            ]
          },
          "metadata": {
            "tags": []
          },
          "execution_count": 31
        }
      ]
    },
    {
      "cell_type": "code",
      "metadata": {
        "id": "ImpSIN4Dfyzj"
      },
      "source": [
        "num2[1]=[]"
      ],
      "execution_count": null,
      "outputs": []
    },
    {
      "cell_type": "code",
      "metadata": {
        "id": "Ubs6tYbXfyzj",
        "outputId": "fc9ae755-35ac-476d-ba7a-190816fdcd2c"
      },
      "source": [
        "num2"
      ],
      "execution_count": null,
      "outputs": [
        {
          "output_type": "execute_result",
          "data": {
            "text/plain": [
              "[6, [], 6, 17]"
            ]
          },
          "metadata": {
            "tags": []
          },
          "execution_count": 33
        }
      ]
    },
    {
      "cell_type": "code",
      "metadata": {
        "id": "tQMmJ5NHfyzk",
        "outputId": "101b2104-5a6c-42c3-c3ed-1017c5a64f52"
      },
      "source": [
        "len(num2)"
      ],
      "execution_count": null,
      "outputs": [
        {
          "output_type": "execute_result",
          "data": {
            "text/plain": [
              "4"
            ]
          },
          "metadata": {
            "tags": []
          },
          "execution_count": 34
        }
      ]
    },
    {
      "cell_type": "code",
      "metadata": {
        "id": "zbMJYzZ_fyzk"
      },
      "source": [
        "a=[1,2,3]\n",
        "b=[4,5,6]\n",
        "c=[7,8,9]"
      ],
      "execution_count": null,
      "outputs": []
    },
    {
      "cell_type": "code",
      "metadata": {
        "id": "a-8Gp6ftfyzk",
        "outputId": "d1abcf87-3a46-4525-e022-7bf8cac7d9a2"
      },
      "source": [
        "r=[a,b,c]\n",
        "r"
      ],
      "execution_count": null,
      "outputs": [
        {
          "output_type": "execute_result",
          "data": {
            "text/plain": [
              "[[1, 2, 3], [4, 5, 6], [7, 8, 9]]"
            ]
          },
          "metadata": {
            "tags": []
          },
          "execution_count": 36
        }
      ]
    },
    {
      "cell_type": "code",
      "metadata": {
        "id": "ogAidxgkfyzl",
        "outputId": "37a27e3b-fed2-460b-d29c-f9af5804d7c1"
      },
      "source": [
        "r[0]"
      ],
      "execution_count": null,
      "outputs": [
        {
          "output_type": "execute_result",
          "data": {
            "text/plain": [
              "[1, 2, 3]"
            ]
          },
          "metadata": {
            "tags": []
          },
          "execution_count": 37
        }
      ]
    },
    {
      "cell_type": "markdown",
      "metadata": {
        "id": "rxvVL9-PBCrl"
      },
      "source": [
        "## 2.Estructura de datos"
      ]
    },
    {
      "cell_type": "markdown",
      "metadata": {
        "id": "6gZNAE6sBstT"
      },
      "source": [
        "### 2.1 Tuplas"
      ]
    },
    {
      "cell_type": "markdown",
      "metadata": {
        "id": "G2cNFtXyBxTA"
      },
      "source": [
        " Una tupla es un conjunto ordenado e inmutable de elementos del mismo o diferente tipo.\n",
        "\n",
        "Las tuplas se representan escribiendo los elementos entre paréntesis y separados por comas."
      ]
    },
    {
      "cell_type": "code",
      "metadata": {
        "colab": {
          "base_uri": "https://localhost:8080/"
        },
        "id": "DLzIDqCcCIWM",
        "outputId": "2c4e037b-70cf-41e3-fdc3-9ed20a4a6646"
      },
      "source": [
        "(1, \"Hello world\", x)"
      ],
      "execution_count": null,
      "outputs": [
        {
          "output_type": "execute_result",
          "data": {
            "text/plain": [
              "(1, 'Hello world', 13.5)"
            ]
          },
          "metadata": {
            "tags": []
          },
          "execution_count": 18
        }
      ]
    },
    {
      "cell_type": "code",
      "metadata": {
        "colab": {
          "base_uri": "https://localhost:8080/"
        },
        "id": "r21f9FxcDFqn",
        "outputId": "2e8ef0c6-0885-4ce9-86cf-d5c7a5efb298"
      },
      "source": [
        "T= 3, 4, \"E\"\n",
        "T"
      ],
      "execution_count": null,
      "outputs": [
        {
          "output_type": "execute_result",
          "data": {
            "text/plain": [
              "(3, 4, 'E')"
            ]
          },
          "metadata": {
            "tags": []
          },
          "execution_count": 18
        }
      ]
    },
    {
      "cell_type": "code",
      "metadata": {
        "colab": {
          "base_uri": "https://localhost:8080/",
          "height": 35
        },
        "id": "yjV29bmkHw3d",
        "outputId": "b452ca3a-cd8f-4150-e7ec-9d323c4e4e1f"
      },
      "source": [
        "T[2]"
      ],
      "execution_count": null,
      "outputs": [
        {
          "output_type": "execute_result",
          "data": {
            "application/vnd.google.colaboratory.intrinsic+json": {
              "type": "string"
            },
            "text/plain": [
              "'E'"
            ]
          },
          "metadata": {
            "tags": []
          },
          "execution_count": 40
        }
      ]
    },
    {
      "cell_type": "markdown",
      "metadata": {
        "id": "2UbM-be-IDF3"
      },
      "source": [
        "Todas las secuencias en Python comienzan a numerarse desde 0"
      ]
    },
    {
      "cell_type": "code",
      "metadata": {
        "colab": {
          "base_uri": "https://localhost:8080/"
        },
        "id": "7kpmVXYiDSwQ",
        "outputId": "f4a2f8ec-5c88-412b-e72e-ce0f223e5167"
      },
      "source": [
        "len(T)"
      ],
      "execution_count": null,
      "outputs": [
        {
          "output_type": "execute_result",
          "data": {
            "text/plain": [
              "3"
            ]
          },
          "metadata": {
            "tags": []
          },
          "execution_count": 22
        }
      ]
    },
    {
      "cell_type": "markdown",
      "metadata": {
        "id": "Y07Izk_YCHU-"
      },
      "source": [
        "Puede haber una tupla con elementos vacios, pero debe separarse con comas"
      ]
    },
    {
      "cell_type": "code",
      "metadata": {
        "id": "aDsINlfUfyzl",
        "colab": {
          "base_uri": "https://localhost:8080/"
        },
        "outputId": "a53ec12b-ac64-4f3e-dde8-e30eac0fa1b6"
      },
      "source": [
        "(1,)\n"
      ],
      "execution_count": null,
      "outputs": [
        {
          "output_type": "execute_result",
          "data": {
            "text/plain": [
              "(1,)"
            ]
          },
          "metadata": {
            "tags": []
          },
          "execution_count": 26
        }
      ]
    },
    {
      "cell_type": "code",
      "metadata": {
        "colab": {
          "base_uri": "https://localhost:8080/"
        },
        "id": "55UhX73LEKbc",
        "outputId": "1b6a54f9-7ca7-41e1-aa05-9bcb70fa1995"
      },
      "source": [
        "(1,4)"
      ],
      "execution_count": null,
      "outputs": [
        {
          "output_type": "execute_result",
          "data": {
            "text/plain": [
              "(1, 4)"
            ]
          },
          "metadata": {
            "tags": []
          },
          "execution_count": 30
        }
      ]
    },
    {
      "cell_type": "code",
      "metadata": {
        "colab": {
          "base_uri": "https://localhost:8080/"
        },
        "id": "oguRuihrFMux",
        "outputId": "d4877bf4-f29e-42c8-d2aa-d12506ed921c"
      },
      "source": [
        "numeros = (5,4,3,2,1,6,45,3,6,6,6,6,6)\n",
        " \n",
        "numero = int(input(\"Dame un numero: \"))\n",
        " \n",
        "contador= 0\n",
        "for i in numeros:\n",
        "    if numero == i:\n",
        "        contador = contador + 1\n",
        " \n",
        "print (\"Hay \",contador,\" repeticion/es\")"
      ],
      "execution_count": null,
      "outputs": [
        {
          "output_type": "stream",
          "text": [
            "Dame un numero: 6\n",
            "Hay  6  repeticion/es\n"
          ],
          "name": "stdout"
        }
      ]
    },
    {
      "cell_type": "markdown",
      "metadata": {
        "id": "NnrvsC4HIZsj"
      },
      "source": [
        "### 2.2 Listas"
      ]
    },
    {
      "cell_type": "markdown",
      "metadata": {
        "id": "Fqw9N5OlJmi5"
      },
      "source": [
        "Una lista es un arreglo de elementos donde podemos ingresar cualquier tipo de dato,Una lista es un arreglo de elementos donde podemos ingresar cualquier tipo de dato."
      ]
    },
    {
      "cell_type": "code",
      "metadata": {
        "id": "CYwp3MjaIiDy",
        "colab": {
          "base_uri": "https://localhost:8080/"
        },
        "outputId": "2beae049-800b-45c7-cf38-465e9e27879f"
      },
      "source": [
        "lista = [1, 2.5, 'UPIITA', [5,6], 4]\n",
        "lista"
      ],
      "execution_count": null,
      "outputs": [
        {
          "output_type": "execute_result",
          "data": {
            "text/plain": [
              "[1, 2.5, 'UPIITA', [5, 6], 4]"
            ]
          },
          "metadata": {
            "tags": []
          },
          "execution_count": 4
        }
      ]
    },
    {
      "cell_type": "code",
      "metadata": {
        "id": "nmu6-2IWIiJn",
        "colab": {
          "base_uri": "https://localhost:8080/"
        },
        "outputId": "976b31d0-a50a-430e-db3c-e2b031779102"
      },
      "source": [
        "print(lista[3])"
      ],
      "execution_count": null,
      "outputs": [
        {
          "output_type": "stream",
          "text": [
            "[5, 6]\n"
          ],
          "name": "stdout"
        }
      ]
    },
    {
      "cell_type": "code",
      "metadata": {
        "colab": {
          "base_uri": "https://localhost:8080/"
        },
        "id": "ayJoPdzIKUlX",
        "outputId": "a4116c7e-32e5-436a-fc1a-c7fc36637f24"
      },
      "source": [
        "print(lista[4])"
      ],
      "execution_count": null,
      "outputs": [
        {
          "output_type": "stream",
          "text": [
            "4\n"
          ],
          "name": "stdout"
        }
      ]
    },
    {
      "cell_type": "code",
      "metadata": {
        "colab": {
          "base_uri": "https://localhost:8080/"
        },
        "id": "UApl7FRIKYjf",
        "outputId": "ceaf6706-cd7e-4d65-afa7-dd256849d5b5"
      },
      "source": [
        "print (lista[3][1])"
      ],
      "execution_count": null,
      "outputs": [
        {
          "output_type": "stream",
          "text": [
            "6\n"
          ],
          "name": "stdout"
        }
      ]
    },
    {
      "cell_type": "code",
      "metadata": {
        "colab": {
          "base_uri": "https://localhost:8080/"
        },
        "id": "47t3dymvKck3",
        "outputId": "3c508aa9-659c-4842-d00e-667c3c06af2a"
      },
      "source": [
        "len(lista)"
      ],
      "execution_count": null,
      "outputs": [
        {
          "output_type": "execute_result",
          "data": {
            "text/plain": [
              "5"
            ]
          },
          "metadata": {
            "tags": []
          },
          "execution_count": 51
        }
      ]
    },
    {
      "cell_type": "code",
      "metadata": {
        "id": "sWPvEDv5P2ae",
        "colab": {
          "base_uri": "https://localhost:8080/"
        },
        "outputId": "f8ffc605-f343-4dd0-d75c-eb8900ae14b8"
      },
      "source": [
        "lista = [1, 2.5, 'UPIITA', [5,6], 4]\n",
        "lista.append(10)\n",
        "lista"
      ],
      "execution_count": null,
      "outputs": [
        {
          "output_type": "execute_result",
          "data": {
            "text/plain": [
              "[1, 2.5, 'UPIITA', [5, 6], 4, 10]"
            ]
          },
          "metadata": {
            "tags": []
          },
          "execution_count": 120
        }
      ]
    },
    {
      "cell_type": "code",
      "metadata": {
        "colab": {
          "base_uri": "https://localhost:8080/"
        },
        "id": "M5tm4llnQWgW",
        "outputId": "8a4acdd9-c788-4d5d-9d28-b899e80686a3"
      },
      "source": [
        "lista.append([1, 3, 4, 2, 5])\n",
        "lista"
      ],
      "execution_count": null,
      "outputs": [
        {
          "output_type": "execute_result",
          "data": {
            "text/plain": [
              "[1, 2.5, 'UPIITA', [5, 6], 4, [1, 3, 4, 2, 5]]"
            ]
          },
          "metadata": {
            "tags": []
          },
          "execution_count": 63
        }
      ]
    },
    {
      "cell_type": "code",
      "metadata": {
        "colab": {
          "base_uri": "https://localhost:8080/"
        },
        "id": "MnmJzwxBRIcj",
        "outputId": "e4122788-bfba-47d6-aa08-d9996a57a74b"
      },
      "source": [
        "lista.extend([4, 7, \"x\"])\n",
        "lista"
      ],
      "execution_count": null,
      "outputs": [
        {
          "output_type": "execute_result",
          "data": {
            "text/plain": [
              "[1, 2.5, 'UPIITA', [5, 6], 4, [1, 3, 4, 2, 5], 4, 7, 'x', 4, 7, 'x']"
            ]
          },
          "metadata": {
            "tags": []
          },
          "execution_count": 66
        }
      ]
    },
    {
      "cell_type": "code",
      "metadata": {
        "colab": {
          "base_uri": "https://localhost:8080/"
        },
        "id": "AM4BRVzZP609",
        "outputId": "ae17df7b-bd98-4864-df90-9114ff3bc1e5"
      },
      "source": [
        "lista.remove(7)\n",
        "lista"
      ],
      "execution_count": null,
      "outputs": [
        {
          "output_type": "execute_result",
          "data": {
            "text/plain": [
              "[1, 2.5, 'UPIITA', [5, 6], 4, [1, 3, 4, 2, 5], 4, 'x', 4, 7, 'x']"
            ]
          },
          "metadata": {
            "tags": []
          },
          "execution_count": 68
        }
      ]
    },
    {
      "cell_type": "code",
      "metadata": {
        "colab": {
          "base_uri": "https://localhost:8080/"
        },
        "id": "37pA_OlRRlcY",
        "outputId": "a16b80c6-c6cd-4ba4-9bcc-c1223ac27bc5"
      },
      "source": [
        "lista.remove(\"UPIITA\")\n",
        "lista"
      ],
      "execution_count": null,
      "outputs": [
        {
          "output_type": "execute_result",
          "data": {
            "text/plain": [
              "[1, 2.5, [5, 6], 4, [1, 3, 4, 2, 5], 4, 'x', 4, 7, 'x']"
            ]
          },
          "metadata": {
            "tags": []
          },
          "execution_count": 69
        }
      ]
    },
    {
      "cell_type": "code",
      "metadata": {
        "colab": {
          "base_uri": "https://localhost:8080/"
        },
        "id": "43b-COl1T8LT",
        "outputId": "4e235c57-4115-43cf-90a6-daa6fb985446"
      },
      "source": [
        "lista.index(\"x\")"
      ],
      "execution_count": null,
      "outputs": [
        {
          "output_type": "execute_result",
          "data": {
            "text/plain": [
              "6"
            ]
          },
          "metadata": {
            "tags": []
          },
          "execution_count": 71
        }
      ]
    },
    {
      "cell_type": "code",
      "metadata": {
        "colab": {
          "base_uri": "https://localhost:8080/"
        },
        "id": "55b5W237UyP6",
        "outputId": "63db2afa-01df-4000-ba69-3b0300a6e1a3"
      },
      "source": [
        "lista.count(4)\n"
      ],
      "execution_count": null,
      "outputs": [
        {
          "output_type": "execute_result",
          "data": {
            "text/plain": [
              "3"
            ]
          },
          "metadata": {
            "tags": []
          },
          "execution_count": 74
        }
      ]
    },
    {
      "cell_type": "code",
      "metadata": {
        "colab": {
          "base_uri": "https://localhost:8080/",
          "height": 35
        },
        "id": "yx8R-Nt_x6L4",
        "outputId": "e2aa59fb-c8ea-477f-f082-24f9963152c9"
      },
      "source": [
        "a = 'abc'\n",
        "a[0:2]"
      ],
      "execution_count": null,
      "outputs": [
        {
          "output_type": "execute_result",
          "data": {
            "application/vnd.google.colaboratory.intrinsic+json": {
              "type": "string"
            },
            "text/plain": [
              "'ab'"
            ]
          },
          "metadata": {
            "tags": []
          },
          "execution_count": 17
        }
      ]
    },
    {
      "cell_type": "markdown",
      "metadata": {
        "id": "3sOhCOE5IfRA"
      },
      "source": [
        "### 2.3 Diccionarios"
      ]
    },
    {
      "cell_type": "markdown",
      "metadata": {
        "id": "Gz8o7ho4Vou0"
      },
      "source": [
        "El diccionario, define una relación uno a uno entre claves y valores."
      ]
    },
    {
      "cell_type": "code",
      "metadata": {
        "id": "K6wty2YAIncd",
        "colab": {
          "base_uri": "https://localhost:8080/"
        },
        "outputId": "8c6f17b6-c29d-4239-9949-d30cef3d9bf4"
      },
      "source": [
        "{'python': 27, 'plone': 51}"
      ],
      "execution_count": null,
      "outputs": [
        {
          "output_type": "execute_result",
          "data": {
            "text/plain": [
              "{'plone': 51, 'python': 27}"
            ]
          },
          "metadata": {
            "tags": []
          },
          "execution_count": 75
        }
      ]
    },
    {
      "cell_type": "code",
      "metadata": {
        "id": "kq0a3H_uVxfk"
      },
      "source": [
        "Diccionario={\n",
        "    \"k1\":4,\n",
        "    \"k2\":True,\n",
        "    \"k3\":\"Valor 1\",\n",
        "    \"k4\":[1,2,3,4]}"
      ],
      "execution_count": null,
      "outputs": []
    },
    {
      "cell_type": "code",
      "metadata": {
        "colab": {
          "base_uri": "https://localhost:8080/",
          "height": 35
        },
        "id": "538CJARmWQDG",
        "outputId": "f4f223c0-2850-4603-d593-13b4ae84b9ec"
      },
      "source": [
        "Diccionario['']k3"
      ],
      "execution_count": null,
      "outputs": [
        {
          "output_type": "execute_result",
          "data": {
            "application/vnd.google.colaboratory.intrinsic+json": {
              "type": "string"
            },
            "text/plain": [
              "'Valor 1'"
            ]
          },
          "metadata": {
            "tags": []
          },
          "execution_count": 81
        }
      ]
    },
    {
      "cell_type": "markdown",
      "metadata": {
        "id": "J2o1Dw7UW6zP"
      },
      "source": [
        "Un diccionario puede almacenar los diversos tipos de datos integrados en Python"
      ]
    },
    {
      "cell_type": "code",
      "metadata": {
        "colab": {
          "base_uri": "https://localhost:8080/"
        },
        "id": "CeTkSUf0WnzW",
        "outputId": "4f1e5ffd-df6a-4a6c-8a35-5ba94b55fda7"
      },
      "source": [
        "type(Diccionario['k2'])\n"
      ],
      "execution_count": null,
      "outputs": [
        {
          "output_type": "execute_result",
          "data": {
            "text/plain": [
              "bool"
            ]
          },
          "metadata": {
            "tags": []
          },
          "execution_count": 83
        }
      ]
    },
    {
      "cell_type": "code",
      "metadata": {
        "colab": {
          "base_uri": "https://localhost:8080/"
        },
        "id": "Miynctk2X04a",
        "outputId": "c0a08b65-8dd2-4d59-a2ef-e825b8ff1b72"
      },
      "source": [
        "dict(Etiqueta1=2.7, Etiqueta2=2.13, Etiqueta3=5.1, Etiqueta4=2.1)"
      ],
      "execution_count": null,
      "outputs": [
        {
          "output_type": "execute_result",
          "data": {
            "text/plain": [
              "{'Etiqueta1': 2.7, 'Etiqueta2': 2.13, 'Etiqueta3': 5.1, 'Etiqueta4': 2.1}"
            ]
          },
          "metadata": {
            "tags": []
          },
          "execution_count": 84
        }
      ]
    },
    {
      "cell_type": "code",
      "metadata": {
        "colab": {
          "base_uri": "https://localhost:8080/"
        },
        "id": "nVxWK58dYAaS",
        "outputId": "af0ea652-7a54-4fdc-c4b2-eb9952d04b10"
      },
      "source": [
        "Dic=dict(Etiqueta1=2.7, Etiqueta2=2.13, Etiqueta3=5.1, Etiqueta4=2.1)\n",
        "\"Etiqueta1\" in Dic"
      ],
      "execution_count": null,
      "outputs": [
        {
          "output_type": "execute_result",
          "data": {
            "text/plain": [
              "True"
            ]
          },
          "metadata": {
            "tags": []
          },
          "execution_count": 86
        }
      ]
    },
    {
      "cell_type": "code",
      "metadata": {
        "colab": {
          "base_uri": "https://localhost:8080/"
        },
        "id": "BxwsBHEHYU27",
        "outputId": "631dee63-2e27-4e10-83f4-8095eead0842"
      },
      "source": [
        "'Etiqueta4' in Dic"
      ],
      "execution_count": null,
      "outputs": [
        {
          "output_type": "execute_result",
          "data": {
            "text/plain": [
              "True"
            ]
          },
          "metadata": {
            "tags": []
          },
          "execution_count": 88
        }
      ]
    },
    {
      "cell_type": "code",
      "metadata": {
        "colab": {
          "base_uri": "https://localhost:8080/"
        },
        "id": "VLmwm6HDY8tD",
        "outputId": "214f8318-f1a3-4ca6-8ee5-95b8a3c69aef"
      },
      "source": [
        "Dic.get('Etiqueta3')"
      ],
      "execution_count": null,
      "outputs": [
        {
          "output_type": "execute_result",
          "data": {
            "text/plain": [
              "5.1"
            ]
          },
          "metadata": {
            "tags": []
          },
          "execution_count": 89
        }
      ]
    },
    {
      "cell_type": "code",
      "metadata": {
        "id": "J-z-v56nZMHe",
        "colab": {
          "base_uri": "https://localhost:8080/"
        },
        "outputId": "fa72afd7-0053-4ef7-c57e-1b749978350a"
      },
      "source": [
        "Dic.items()"
      ],
      "execution_count": null,
      "outputs": [
        {
          "output_type": "execute_result",
          "data": {
            "text/plain": [
              "dict_items([('Etiqueta1', 2.7), ('Etiqueta2', 2.13), ('Etiqueta3', 5.1), ('Etiqueta4', 2.1)])"
            ]
          },
          "metadata": {
            "tags": []
          },
          "execution_count": 90
        }
      ]
    },
    {
      "cell_type": "markdown",
      "metadata": {
        "id": "m9yK-ZR6pHgL"
      },
      "source": [
        "# Funciones"
      ]
    },
    {
      "cell_type": "markdown",
      "metadata": {
        "id": "4zsaxRKvr3-M"
      },
      "source": [
        "## Indentación\n",
        "\n",
        "Primero hablemos un poco de la indentación de código, este es\n",
        "el hecho de utilizar sangrado (mover ligeramente hacia la derecha) en las líneas de código para facilitar la lectura, e indicar visualmente si nos encontramos en el interior de una función, bucle, condicional, etc. Por ejemplo, ¿cuál de las siguientes dos celdas de código se ve más entendible?\n",
        "\n",
        "\n"
      ]
    },
    {
      "cell_type": "code",
      "metadata": {
        "id": "fPX9NAZIyYVF"
      },
      "source": [
        "\"\"\"\n",
        "function bucle() { for (i = 0; i < 10; i++) {\n",
        "  console.log(\"Iteración #\", i);\n",
        "  if (i == 9) console.log(\"Estoy en la última iteración\"); }\n",
        "}\n",
        "\"\"\""
      ],
      "execution_count": null,
      "outputs": []
    },
    {
      "cell_type": "code",
      "metadata": {
        "id": "47O-Q3-syyHG"
      },
      "source": [
        "\"\"\"\n",
        "function bucle() {\n",
        "  for (i = 0; i < 10; i++) {\n",
        "    console.log(\"Iteración #\", i);\n",
        "\n",
        "    if (i == 9) {\n",
        "      console.log(\"Estoy en la última iteración\");\n",
        "    } // if\n",
        "  } // for\n",
        "} // function\n",
        "\"\"\""
      ],
      "execution_count": null,
      "outputs": []
    },
    {
      "cell_type": "code",
      "metadata": {
        "id": "rVFq2fBzpojh"
      },
      "source": [
        ""
      ],
      "execution_count": null,
      "outputs": []
    },
    {
      "cell_type": "code",
      "metadata": {
        "id": "uHue9MHhQVhZ",
        "colab": {
          "base_uri": "https://localhost:8080/"
        },
        "outputId": "75c71406-1b63-4967-df9f-c3f3ac119a58"
      },
      "source": [
        "edad = int(input('¿Qué edad tiene usted? '))\n",
        "if edad <= 2:\n",
        "    print(' gratis')\n",
        "elif 2 < edad < 13:\n",
        "    print(' tarifa de niño')\n",
        "else:\n",
        "    print('tarifa para adultos')"
      ],
      "execution_count": null,
      "outputs": [
        {
          "output_type": "stream",
          "text": [
            "¿Qué edad tiene usted? 5\n",
            " tarifa de niño\n"
          ],
          "name": "stdout"
        }
      ]
    },
    {
      "cell_type": "code",
      "metadata": {
        "colab": {
          "base_uri": "https://localhost:8080/"
        },
        "id": "gcY1ugmGD9B-",
        "outputId": "eb996179-5cee-4f15-9885-aa4980f75b7e"
      },
      "source": [
        "pwd = str(input('Contraseña: '))\n",
        "if pwd == 'manzana':\n",
        "    print('Iniciando sesión ...')\n",
        "else:\n",
        "    print('Contraseña incorrecta.')\n",
        "\n",
        "print('¡Todo terminado!')"
      ],
      "execution_count": null,
      "outputs": [
        {
          "output_type": "stream",
          "text": [
            "Contraseña: holaaa\n",
            "Contraseña incorrecta.\n",
            "¡Todo terminado!\n"
          ],
          "name": "stdout"
        }
      ]
    },
    {
      "cell_type": "code",
      "metadata": {
        "colab": {
          "base_uri": "https://localhost:8080/"
        },
        "id": "LmgOF4JjF9LG",
        "outputId": "41b9cdce-a6ff-417c-f4cc-9dd4f273cfac"
      },
      "source": [
        "x=0\n",
        "for i in range(10):\n",
        "  print(\"Todavía no\")\n",
        "  if i == 9:\n",
        "    print(\"Estoy en la última iteración\")\n"
      ],
      "execution_count": null,
      "outputs": [
        {
          "output_type": "stream",
          "text": [
            "Todavía no\n",
            "Todavía no\n",
            "Todavía no\n",
            "Todavía no\n",
            "Todavía no\n",
            "Todavía no\n",
            "Todavía no\n",
            "Todavía no\n",
            "Todavía no\n",
            "Todavía no\n",
            "Estoy en la última iteración\n"
          ],
          "name": "stdout"
        }
      ]
    },
    {
      "cell_type": "code",
      "metadata": {
        "id": "8M2O4_7aqGVH"
      },
      "source": [
        ""
      ],
      "execution_count": null,
      "outputs": []
    },
    {
      "cell_type": "markdown",
      "metadata": {
        "id": "K0JtR7h-ykSL"
      },
      "source": [
        "<h2>4.Funciones</h2>\n",
        "<p>\n",
        "Es un bloque de codigo reutilizable el cual puede recibir variables de entrada y devuelve algún valor procesado o realiza alguna operación (por ejemplo, puede imprimir un valor, pero no regresar un valor)<br>\n",
        "Su sintaxis es la siguiente:<br><br>\n",
        "def nombre_funcion(argumentos de entrada):<br>\n",
        "&nbsp;&nbsp;&nbsp;&nbsp;&nbsp;&nbsp;&nbsp;&nbsp;....<br>\n",
        "&nbsp;&nbsp;&nbsp;&nbsp;&nbsp;&nbsp;&nbsp;&nbsp;....<br>\n",
        "&nbsp;&nbsp;&nbsp;&nbsp;&nbsp;&nbsp;&nbsp;&nbsp;....<br>\n",
        "&nbsp;&nbsp;&nbsp;&nbsp;&nbsp;&nbsp;&nbsp;&nbsp;return valor/es_procesados #Opcional\n",
        "</p>\n",
        "<br><p>\n",
        "¿Notaron la indentación? Bueno, Python obliga a indentar el código, es parte de su sintaxis.</p>"
      ]
    },
    {
      "cell_type": "code",
      "metadata": {
        "id": "68FAOVj4r3lY"
      },
      "source": [
        "# Declaramos las funciones de suma y multiplicación\n",
        "def suma(a,b):\n",
        "    return a + b\n",
        "def multiplicación(a,b):\n",
        "    return a * b"
      ],
      "execution_count": null,
      "outputs": []
    },
    {
      "cell_type": "markdown",
      "metadata": {
        "id": "0NDyC7qjvZbW"
      },
      "source": [
        "<h3>Poniendo en práctica variables y funciones</h3>"
      ]
    },
    {
      "cell_type": "code",
      "metadata": {
        "colab": {
          "base_uri": "https://localhost:8080/"
        },
        "id": "sZAPc425zzwc",
        "outputId": "9cfbfe84-486f-49fa-9e6b-50b6ed4ba288"
      },
      "source": [
        "# Guardemos el resultado de una función en una variable.\n",
        "resultado1 = suma(1, 2)\n",
        "resultado2 = multiplicación(3, 4)\n",
        "print(resultado1)\n",
        "print(resultado2)"
      ],
      "execution_count": null,
      "outputs": [
        {
          "output_type": "stream",
          "text": [
            "3\n",
            "12\n"
          ],
          "name": "stdout"
        }
      ]
    },
    {
      "cell_type": "markdown",
      "metadata": {
        "id": "eqlnzBhg0qGU"
      },
      "source": [
        "### \"Funciones\" útiles\n",
        "Conforme vamos adquiriendo más experiencia programando, nos vamos a dar cuenta que hay funciones ya implementadas que utilizamos más que otras. Vamos a dar unos ejemplos:\n"
      ]
    },
    {
      "cell_type": "code",
      "metadata": {
        "id": "icrQtufT1TQL",
        "colab": {
          "base_uri": "https://localhost:8080/"
        },
        "outputId": "82c23b43-5af8-43d5-8cf3-cc65991b7d52"
      },
      "source": [
        "#Creamos una nueva lista\n",
        "l = [3,40,22,-2]\n",
        "# Las función max() sirve para encontrar el valor máximo de una estructura iterable\n",
        "max(l)"
      ],
      "execution_count": null,
      "outputs": [
        {
          "output_type": "execute_result",
          "data": {
            "text/plain": [
              "40"
            ]
          },
          "metadata": {
            "tags": []
          },
          "execution_count": 125
        }
      ]
    },
    {
      "cell_type": "code",
      "metadata": {
        "id": "oCYss_dQ1leO",
        "colab": {
          "base_uri": "https://localhost:8080/"
        },
        "outputId": "1bf76ae2-4016-455b-bda5-6949d1cea114"
      },
      "source": [
        "# Las función min() sirve para encontrar el valor máximo de una estructura iterable\n",
        "min(l)"
      ],
      "execution_count": null,
      "outputs": [
        {
          "output_type": "execute_result",
          "data": {
            "text/plain": [
              "-2"
            ]
          },
          "metadata": {
            "tags": []
          },
          "execution_count": 126
        }
      ]
    },
    {
      "cell_type": "code",
      "metadata": {
        "id": "ZImeMvG41mLy",
        "colab": {
          "base_uri": "https://localhost:8080/"
        },
        "outputId": "4c1b9a37-69b7-460e-fa1f-6bc6fec5857e"
      },
      "source": [
        "# Las función find() sirve para encontrar alguna subcadena dentro de una cadena.\n",
        "# Devuelve el índice de la cadena en donde se encuentre por primera vez, si no se encuentra, devuelve -1.\n",
        "s = 'Hola, estudio en UPIITA'\n",
        "s.find('UPIITA')"
      ],
      "execution_count": null,
      "outputs": [
        {
          "output_type": "execute_result",
          "data": {
            "text/plain": [
              "17"
            ]
          },
          "metadata": {
            "tags": []
          },
          "execution_count": 127
        }
      ]
    },
    {
      "cell_type": "code",
      "metadata": {
        "colab": {
          "base_uri": "https://localhost:8080/"
        },
        "id": "YXCFIYBlKIRv",
        "outputId": "f1425c9a-c518-44f3-a84b-adb6420c504f"
      },
      "source": [
        "numeros = [16, 4, 9, 1, 3, 20, 8]\n",
        "numeros.sort()\n",
        "numeros\n",
        "\n",
        "\n"
      ],
      "execution_count": null,
      "outputs": [
        {
          "output_type": "execute_result",
          "data": {
            "text/plain": [
              "[1, 3, 4, 8, 9, 16, 20]"
            ]
          },
          "metadata": {
            "tags": []
          },
          "execution_count": 1
        }
      ]
    },
    {
      "cell_type": "code",
      "metadata": {
        "colab": {
          "base_uri": "https://localhost:8080/"
        },
        "id": "IoYigzErKaSf",
        "outputId": "5fcf748e-d8ba-47d3-9530-e7223bc37994"
      },
      "source": [
        "palabras = [\"hola\", \"coche\", \"avión\", \"manzana\", \"perro\", \"gato\"]\n",
        "palabras.sort()\n",
        "palabras"
      ],
      "execution_count": null,
      "outputs": [
        {
          "output_type": "execute_result",
          "data": {
            "text/plain": [
              "['avión', 'coche', 'gato', 'hola', 'manzana', 'perro']"
            ]
          },
          "metadata": {
            "tags": []
          },
          "execution_count": 2
        }
      ]
    },
    {
      "cell_type": "code",
      "metadata": {
        "colab": {
          "base_uri": "https://localhost:8080/"
        },
        "id": "7KWPtXB3LKTo",
        "outputId": "389ac0f0-477a-49fa-9d54-2dd0773e0037"
      },
      "source": [
        "x = range(10)\n",
        "print(x)"
      ],
      "execution_count": null,
      "outputs": [
        {
          "output_type": "stream",
          "text": [
            "range(0, 10)\n"
          ],
          "name": "stdout"
        }
      ]
    },
    {
      "cell_type": "code",
      "metadata": {
        "colab": {
          "base_uri": "https://localhost:8080/"
        },
        "id": "PfBZa2R5LNkc",
        "outputId": "3f570802-3b55-49e1-8bbb-08ad21f78df9"
      },
      "source": [
        "list(x)"
      ],
      "execution_count": null,
      "outputs": [
        {
          "output_type": "execute_result",
          "data": {
            "text/plain": [
              "[0, 1, 2, 3, 4, 5, 6, 7, 8, 9]"
            ]
          },
          "metadata": {
            "tags": []
          },
          "execution_count": 4
        }
      ]
    },
    {
      "cell_type": "code",
      "metadata": {
        "colab": {
          "base_uri": "https://localhost:8080/"
        },
        "id": "CO-BFcBGLUVp",
        "outputId": "a4604016-1650-49ae-969e-a483eeb27ece"
      },
      "source": [
        "list(range(1, 11))\n"
      ],
      "execution_count": null,
      "outputs": [
        {
          "output_type": "execute_result",
          "data": {
            "text/plain": [
              "[1, 2, 3, 4, 5, 6, 7, 8, 9, 10]"
            ]
          },
          "metadata": {
            "tags": []
          },
          "execution_count": 6
        }
      ]
    },
    {
      "cell_type": "code",
      "metadata": {
        "colab": {
          "base_uri": "https://localhost:8080/"
        },
        "id": "ygQrpz3CL_z9",
        "outputId": "f332de91-b397-404d-d8b1-ec7a84d65150"
      },
      "source": [
        "paises = [\"Biónica\", \"Telemática\", \"Mecatrónica\", \"Energía\"]\n",
        "poblaciones = [11, 13, 7, 4]\n",
        "list(zip(paises, poblaciones))"
      ],
      "execution_count": null,
      "outputs": [
        {
          "output_type": "execute_result",
          "data": {
            "text/plain": [
              "[('Biónica', 11), ('Telemática', 13), ('Mecatrónica', 7), ('Energía', 4)]"
            ]
          },
          "metadata": {
            "tags": []
          },
          "execution_count": 10
        }
      ]
    },
    {
      "cell_type": "code",
      "metadata": {
        "colab": {
          "base_uri": "https://localhost:8080/"
        },
        "id": "i26PFcWXOsQn",
        "outputId": "a21ff1bb-6e2c-4b02-8933-e3b2791254e4"
      },
      "source": [
        "a = [\"a\", \"b\", \"c\", \"d\", \"e\"]\n",
        "b = [1, 2, 3, 4, 5]\n",
        "c = ['x', 'u', 't', 4, 5]\n",
        "list(zip(a, b,c))"
      ],
      "execution_count": null,
      "outputs": [
        {
          "output_type": "execute_result",
          "data": {
            "text/plain": [
              "[('a', 1, 'x'), ('b', 2, 'u'), ('c', 3, 't'), ('d', 4, 4), ('e', 5, 5)]"
            ]
          },
          "metadata": {
            "tags": []
          },
          "execution_count": 19
        }
      ]
    },
    {
      "cell_type": "markdown",
      "metadata": {
        "id": "GuI1h_SK3cdH"
      },
      "source": [
        "map(function, iterable, ...)"
      ]
    },
    {
      "cell_type": "code",
      "metadata": {
        "colab": {
          "base_uri": "https://localhost:8080/"
        },
        "id": "iCwXfUpuOVOs",
        "outputId": "2644d490-112e-4bb3-bcc7-fac47d7eb256"
      },
      "source": [
        "def doblar(numero):\n",
        "    return numero*2\n",
        "\n",
        "numeros = [2, 5, 10, 23, 50, 33]\n",
        "\n",
        "list(map(doblar, numeros))"
      ],
      "execution_count": null,
      "outputs": [
        {
          "output_type": "execute_result",
          "data": {
            "text/plain": [
              "[4, 10, 20, 46, 100, 66]"
            ]
          },
          "metadata": {
            "tags": []
          },
          "execution_count": 22
        }
      ]
    },
    {
      "cell_type": "markdown",
      "metadata": {
        "id": "1EBcmc0LY2id"
      },
      "source": [
        "## 4.Ciclos de control\n"
      ]
    },
    {
      "cell_type": "markdown",
      "metadata": {
        "id": "PstOIIgWZH-z"
      },
      "source": [
        "### 4.1 If - elif - else\n",
        "La sentencia condicional if se usa para tomar decisiones, este evaluá básicamente una operación lógica"
      ]
    },
    {
      "cell_type": "code",
      "metadata": {
        "colab": {
          "base_uri": "https://localhost:8080/"
        },
        "id": "KlzY4WEcZcKT",
        "outputId": "53ed426e-a068-4972-9873-4666e849c227"
      },
      "source": [
        "a = 2 + 2\n",
        "if a == 4: #condicion si a es igual a cuatro, entonces\n",
        "    print (\"A es igual a cuatro\")"
      ],
      "execution_count": null,
      "outputs": [
        {
          "output_type": "stream",
          "text": [
            "A es igual a cuatro\n"
          ],
          "name": "stdout"
        }
      ]
    },
    {
      "cell_type": "code",
      "metadata": {
        "colab": {
          "base_uri": "https://localhost:8080/"
        },
        "id": "SG8ihy9Ga4q6",
        "outputId": "cb6e6206-421b-47b6-ddbd-44e27d152f26"
      },
      "source": [
        "a=1\n",
        "if a == 4: #condicion si a es igual a cuatro, entonces\n",
        "    print (\"a es igual a cuatro\")\n",
        "else:\n",
        "    print (\"a es diferente\")"
      ],
      "execution_count": null,
      "outputs": [
        {
          "output_type": "stream",
          "text": [
            "a es diferente\n"
          ],
          "name": "stdout"
        }
      ]
    },
    {
      "cell_type": "code",
      "metadata": {
        "colab": {
          "base_uri": "https://localhost:8080/"
        },
        "id": "zHNgkQoZbdXk",
        "outputId": "2293ea53-a1ea-4875-c8ef-40aba959a05b"
      },
      "source": [
        "a = 4 + 3\n",
        "if a == 4: #condicion si a es exactamente cuatro, entonces(:)\n",
        "    print (\"a es igual a cuatro\") # Imprimir\n",
        "elif a == 5:\n",
        "    print (\"a es igual a cinco\")\n",
        "elif a == 6:\n",
        "    print (\"a es igual a seis\")\n",
        "elif a == 7:\n",
        "    print (\"a es igual a siete\")\n",
        "else:\n",
        "    print (\"No se cumple la condición\")\n",
        "(shift + atl + flecha)\n",
        "elif a = =5\n",
        "elif a == 8\n",
        "elif a = 6"
      ],
      "execution_count": null,
      "outputs": [
        {
          "output_type": "stream",
          "text": [
            "a es igual a siete\n"
          ],
          "name": "stdout"
        }
      ]
    },
    {
      "cell_type": "markdown",
      "metadata": {
        "id": "Rds4WLlIZPJC"
      },
      "source": [
        "### 4.2 For"
      ]
    },
    {
      "cell_type": "code",
      "metadata": {
        "colab": {
          "base_uri": "https://localhost:8080/"
        },
        "id": "LAgNrQo5deNF",
        "outputId": "9b18721a-adcc-43a0-95ec-9ffd75cb7abd"
      },
      "source": [
        "a = 0\n",
        "for i in range(10):\n",
        "  a += 1\n",
        "  print(a)"
      ],
      "execution_count": null,
      "outputs": [
        {
          "output_type": "stream",
          "text": [
            "1\n",
            "2\n",
            "3\n",
            "4\n",
            "5\n",
            "6\n",
            "7\n",
            "8\n",
            "9\n",
            "10\n"
          ],
          "name": "stdout"
        }
      ]
    },
    {
      "cell_type": "code",
      "metadata": {
        "colab": {
          "base_uri": "https://localhost:8080/",
          "height": 35
        },
        "id": "24f0AntgxqvX",
        "outputId": "f82223be-85ac-47d6-8b2f-98d5e7c41276"
      },
      "source": [
        "'a'*3"
      ],
      "execution_count": null,
      "outputs": [
        {
          "output_type": "execute_result",
          "data": {
            "application/vnd.google.colaboratory.intrinsic+json": {
              "type": "string"
            },
            "text/plain": [
              "'aaa'"
            ]
          },
          "metadata": {
            "tags": []
          },
          "execution_count": 10
        }
      ]
    },
    {
      "cell_type": "code",
      "metadata": {
        "colab": {
          "base_uri": "https://localhost:8080/"
        },
        "id": "AJlnJ83Wc_T_",
        "outputId": "01f8394c-a10c-4447-be2e-61b5e80174bc"
      },
      "source": [
        "numeros = [1, 2, 4, 3, 5, 8, 6]\n",
        "for n in numeros:\n",
        "    if n == 3:\n",
        "      print('tiene un 3')\n",
        "      break   \n",
        "else:\n",
        "    print('No se encontró el número 3')"
      ],
      "execution_count": null,
      "outputs": [
        {
          "output_type": "stream",
          "text": [
            "tiene un 3\n"
          ],
          "name": "stdout"
        }
      ]
    },
    {
      "cell_type": "code",
      "metadata": {
        "colab": {
          "base_uri": "https://localhost:8080/"
        },
        "id": "-Gn8__tXcfuC",
        "outputId": "2319e41e-f84f-438a-ffa6-642fb594ca3e"
      },
      "source": [
        "# coleccion = [2, 4, 5, 7, 8, 9, 3, 4]\n",
        "# for e in coleccion:\n",
        "#     if e % 2 != 0:\n",
        "#         continue\n",
        "#     print(e)"
      ],
      "execution_count": null,
      "outputs": [
        {
          "output_type": "stream",
          "text": [
            "2\n",
            "4\n",
            "8\n",
            "4\n"
          ],
          "name": "stdout"
        }
      ]
    },
    {
      "cell_type": "code",
      "metadata": {
        "colab": {
          "base_uri": "https://localhost:8080/"
        },
        "id": "1vy2CmM2q0rF",
        "outputId": "96d1167a-61b4-4b65-9b80-1e7dc45b88fa"
      },
      "source": [
        "otro_diccionario = {\n",
        "    'Nombre' : 'Axel',\n",
        "    'Edad' : 22,\n",
        "    'Escuela' : 'UPIITA'\n",
        "}\n",
        "for llave in otro_diccionario:\n",
        "  print(f'{llave} : {otro_diccionario[llave]}')\n"
      ],
      "execution_count": null,
      "outputs": [
        {
          "output_type": "stream",
          "text": [
            "Nombre : Axel\n",
            "Edad : 22\n",
            "Escuela : UPIITA\n"
          ],
          "name": "stdout"
        }
      ]
    },
    {
      "cell_type": "markdown",
      "metadata": {
        "id": "uEXXmtqLZVXe"
      },
      "source": [
        "### 4.3 While"
      ]
    },
    {
      "cell_type": "markdown",
      "metadata": {
        "id": "WJM5nbIblfgM"
      },
      "source": [
        "Un bucle while permite repetir la ejecución de un grupo de instrucciones mientras se cumpla una condición (es decir, mientras la condición tenga el valor True)."
      ]
    },
    {
      "cell_type": "code",
      "metadata": {
        "colab": {
          "base_uri": "https://localhost:8080/"
        },
        "id": "LRGvSGYklgu4",
        "outputId": "27d92a5f-d19c-4652-ca8e-4c676dc464ea"
      },
      "source": [
        "i = 1\n",
        "while i <= 3:\n",
        "    print(i)\n",
        "    i += 1\n",
        "print(\"Programa terminado\")"
      ],
      "execution_count": null,
      "outputs": [
        {
          "output_type": "stream",
          "text": [
            "1\n",
            "2\n",
            "3\n",
            "Programa terminado\n"
          ],
          "name": "stdout"
        }
      ]
    },
    {
      "cell_type": "code",
      "metadata": {
        "colab": {
          "base_uri": "https://localhost:8080/"
        },
        "id": "qnpiBX3nmL5R",
        "outputId": "64dee993-e4cc-423d-e2e1-7d58d014624a"
      },
      "source": [
        "i = 1\n",
        "while i <= 50:\n",
        "    print(i)\n",
        "    i = 3 * i + 1\n",
        "print(\"Programa terminado\")"
      ],
      "execution_count": null,
      "outputs": [
        {
          "output_type": "stream",
          "text": [
            "1\n",
            "4\n",
            "13\n",
            "40\n",
            "Programa terminado\n"
          ],
          "name": "stdout"
        }
      ]
    },
    {
      "cell_type": "markdown",
      "metadata": {
        "id": "noOKvcJeflbT"
      },
      "source": [
        "## 5.Ejercicios"
      ]
    },
    {
      "cell_type": "markdown",
      "metadata": {
        "id": "3UFKf54Cgd5m"
      },
      "source": [
        "Un algoritmo resuelve cualquier problema a través de unas instrucciones y reglas concisas"
      ]
    },
    {
      "cell_type": "code",
      "metadata": {
        "id": "WZfpzHtNe6Cb",
        "colab": {
          "base_uri": "https://localhost:8080/"
        },
        "outputId": "c64b4135-f6ef-449b-ff7e-7e8bfd707400"
      },
      "source": [
        "import math\n",
        "print(\"Ingrese el radio\")\n",
        "r=float(input())\n",
        "a=math.pi*r**2\n",
        "a"
      ],
      "execution_count": null,
      "outputs": [
        {
          "output_type": "stream",
          "text": [
            "Ingrese el radio\n",
            "2\n"
          ],
          "name": "stdout"
        },
        {
          "output_type": "execute_result",
          "data": {
            "text/plain": [
              "12.566370614359172"
            ]
          },
          "metadata": {
            "tags": []
          },
          "execution_count": 13
        }
      ]
    },
    {
      "cell_type": "code",
      "metadata": {
        "id": "0HWb_czze6FS"
      },
      "source": [
        ""
      ],
      "execution_count": null,
      "outputs": []
    },
    {
      "cell_type": "markdown",
      "metadata": {
        "id": "x69jYmDhr6Ym"
      },
      "source": [
        "# 6.Pasos a seguir"
      ]
    }
  ]
}