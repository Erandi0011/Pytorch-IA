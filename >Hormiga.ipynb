{
  "nbformat": 4,
  "nbformat_minor": 0,
  "metadata": {
    "colab": {
      "provenance": [],
      "authorship_tag": "ABX9TyPKubHCc61X93eMdzAB+005",
      "include_colab_link": true
    },
    "kernelspec": {
      "name": "python3",
      "display_name": "Python 3"
    },
    "language_info": {
      "name": "python"
    }
  },
  "cells": [
    {
      "cell_type": "markdown",
      "metadata": {
        "id": "view-in-github",
        "colab_type": "text"
      },
      "source": [
        "<a href=\"https://colab.research.google.com/github/Erandi0011/Pytorch-IA/blob/main/%3EHormiga.ipynb\" target=\"_parent\"><img src=\"https://colab.research.google.com/assets/colab-badge.svg\" alt=\"Open In Colab\"/></a>"
      ]
    },
    {
      "cell_type": "code",
      "execution_count": 63,
      "metadata": {
        "id": "X7E4PRQ0FlW4"
      },
      "outputs": [],
      "source": [
        "import math\n",
        "import numpy as np\n",
        "\n",
        "def dist(x1,y1,x2,y2):\n",
        "  val=((x2-x1)**2+(y2-y1)**2)**(1/2)\n",
        "  return val"
      ]
    },
    {
      "cell_type": "code",
      "source": [
        "p1=(1,4.5)\n",
        "p2=(4,7.5)\n",
        "p3=(5,6)\n",
        "p4=(4,11)\n",
        "p5=(1,9)\n",
        "p6=(1,3)\n",
        "p7=(8,9)\n",
        "\n",
        "\n",
        "d1=dist(1,4.5,4,7.5)\n",
        "d2=dist(1,4.5,5,6)\n",
        "d3=dist(1,4.5,4,11)\n"
      ],
      "metadata": {
        "id": "yI00LvYRF7kf"
      },
      "execution_count": 64,
      "outputs": []
    },
    {
      "cell_type": "code",
      "source": [
        ".5*(.1)+(1/30.2)"
      ],
      "metadata": {
        "id": "34hJnDSAS75e",
        "outputId": "83adb5c2-bc27-4526-d9b8-e56b108a8c61",
        "colab": {
          "base_uri": "https://localhost:8080/"
        }
      },
      "execution_count": 67,
      "outputs": [
        {
          "output_type": "execute_result",
          "data": {
            "text/plain": [
              "0.08311258278145696"
            ]
          },
          "metadata": {},
          "execution_count": 67
        }
      ]
    },
    {
      "cell_type": "code",
      "source": [
        ".5*(.1)+(1/17.74)+(1/30.2)"
      ],
      "metadata": {
        "id": "Sv_WtAAwTi62",
        "outputId": "a73e84e0-c086-4f3c-9162-a44f6cad7b91",
        "colab": {
          "base_uri": "https://localhost:8080/"
        }
      },
      "execution_count": 68,
      "outputs": [
        {
          "output_type": "execute_result",
          "data": {
            "text/plain": [
              "0.13948236857627094"
            ]
          },
          "metadata": {},
          "execution_count": 68
        }
      ]
    },
    {
      "cell_type": "code",
      "source": [
        "d1"
      ],
      "metadata": {
        "id": "0H2N-nARL7pW",
        "outputId": "e757351a-6707-4418-ae17-5e26700fb87f",
        "colab": {
          "base_uri": "https://localhost:8080/"
        }
      },
      "execution_count": 65,
      "outputs": [
        {
          "output_type": "execute_result",
          "data": {
            "text/plain": [
              "4.242640687119285"
            ]
          },
          "metadata": {},
          "execution_count": 65
        }
      ]
    },
    {
      "cell_type": "markdown",
      "source": [
        "La suma de todas lasdistancias es igual a la suma total de la ruta, qu es Lk \n",
        "La Q es razón de aprendizaje \n",
        "y entre menor sea la distancia es decir Lk, es mejor, es decir que hay más feromonas"
      ],
      "metadata": {
        "id": "gEunEfiaRXFQ"
      }
    },
    {
      "cell_type": "code",
      "source": [
        "((65)**(1/2))/2"
      ],
      "metadata": {
        "id": "sN1MfgDLSAWs",
        "outputId": "d5cd82e2-211c-41af-9835-c3b6050bb08d",
        "colab": {
          "base_uri": "https://localhost:8080/"
        }
      },
      "execution_count": 66,
      "outputs": [
        {
          "output_type": "execute_result",
          "data": {
            "text/plain": [
              "4.031128874149275"
            ]
          },
          "metadata": {},
          "execution_count": 66
        }
      ]
    },
    {
      "cell_type": "code",
      "source": [
        "d3_2=dist(5,6,4,7.5)\n",
        "d3_2"
      ],
      "metadata": {
        "id": "DxYAHNeeM9uo",
        "outputId": "da5fb6f7-660b-48b1-a43d-7025bfee4b98",
        "colab": {
          "base_uri": "https://localhost:8080/"
        }
      },
      "execution_count": 59,
      "outputs": [
        {
          "output_type": "execute_result",
          "data": {
            "text/plain": [
              "1.118033988749895"
            ]
          },
          "metadata": {},
          "execution_count": 59
        }
      ]
    },
    {
      "cell_type": "code",
      "source": [
        "d2"
      ],
      "metadata": {
        "id": "vD_SD6C6KL7G",
        "outputId": "c1107c0a-7b9f-4360-fdf2-1728c5083b39",
        "colab": {
          "base_uri": "https://localhost:8080/"
        }
      },
      "execution_count": 50,
      "outputs": [
        {
          "output_type": "execute_result",
          "data": {
            "text/plain": [
              "2.5"
            ]
          },
          "metadata": {},
          "execution_count": 50
        }
      ]
    },
    {
      "cell_type": "code",
      "source": [
        "d3"
      ],
      "metadata": {
        "id": "ke-i9l3oKetD",
        "outputId": "be72bbd1-9327-4749-d2de-56b5bf682318",
        "colab": {
          "base_uri": "https://localhost:8080/"
        }
      },
      "execution_count": 51,
      "outputs": [
        {
          "output_type": "execute_result",
          "data": {
            "text/plain": [
              "6.726812023536855"
            ]
          },
          "metadata": {},
          "execution_count": 51
        }
      ]
    },
    {
      "cell_type": "code",
      "source": [
        "T0=0.1\n",
        "\n",
        "sum1 = T0*(1/d1)+T0*(1/d2)+T0*(1/d3)"
      ],
      "metadata": {
        "id": "Gihlj7lQGmvc"
      },
      "execution_count": 52,
      "outputs": []
    },
    {
      "cell_type": "code",
      "source": [
        "P1_2 = T0*(1/d1)/sum1\n",
        "P1_3 = T0*(1/d2)/sum1\n",
        "P1_6=  (T0*(1/d3))/sum1\n"
      ],
      "metadata": {
        "id": "Hx0NdHndJFwa"
      },
      "execution_count": 53,
      "outputs": []
    },
    {
      "cell_type": "code",
      "source": [
        "P1_2"
      ],
      "metadata": {
        "id": "-hWkJV0VMXle",
        "outputId": "bbbf9299-7932-4419-d281-930b2a6b1060",
        "colab": {
          "base_uri": "https://localhost:8080/"
        }
      },
      "execution_count": 54,
      "outputs": [
        {
          "output_type": "execute_result",
          "data": {
            "text/plain": [
              "0.3447550763013237"
            ]
          },
          "metadata": {},
          "execution_count": 54
        }
      ]
    },
    {
      "cell_type": "code",
      "source": [
        "P1_3"
      ],
      "metadata": {
        "id": "LcfhaW8QMczr",
        "outputId": "789e5f40-a30b-4b3d-c94f-5227e7eec658",
        "colab": {
          "base_uri": "https://localhost:8080/"
        }
      },
      "execution_count": 55,
      "outputs": [
        {
          "output_type": "execute_result",
          "data": {
            "text/plain": [
              "0.47770664665694207"
            ]
          },
          "metadata": {},
          "execution_count": 55
        }
      ]
    },
    {
      "cell_type": "code",
      "source": [
        "P1_6"
      ],
      "metadata": {
        "id": "Sd6E3uSPMgFN",
        "outputId": "f1394c16-d5f3-40e1-87b1-6f617fff9bbf",
        "colab": {
          "base_uri": "https://localhost:8080/"
        }
      },
      "execution_count": 56,
      "outputs": [
        {
          "output_type": "execute_result",
          "data": {
            "text/plain": [
              "0.17753827704173422"
            ]
          },
          "metadata": {},
          "execution_count": 56
        }
      ]
    }
  ]
}